{
 "cells": [
  {
   "cell_type": "code",
   "execution_count": null,
   "id": "45469e3e",
   "metadata": {},
   "outputs": [],
   "source": [
    "## Create a function called Fahrenheit_to_Celsuis that takes a temperature in Fahrenheit as input and return the equivalent temperature in Celsuis.\n",
    "## Create another function called Celsuis_to_fahrenheit that takes a temperaturein Celsuis as input and returns the equivalent temperature in Fahrenheit."
   ]
  },
  {
   "cell_type": "code",
   "execution_count": 1,
   "id": "fc0844ef",
   "metadata": {},
   "outputs": [
    {
     "name": "stdout",
     "output_type": "stream",
     "text": [
      "Enter temperature in fahrenheit:6\n",
      "_____TEMPERATURE____\n",
      "    \"cel\": -14.44\n",
      "    \n"
     ]
    }
   ],
   "source": [
    "def Fahrenheit_to_Celsuis():\n",
    "    fahrenheit= float(input(\"Enter temperature in fahrenheit:\"))\n",
    "    Celsuis= round((fahrenheit - 32)*(5/9),2)\n",
    "    print(f\"\"\"_____TEMPERATURE____\n",
    "    \"cel\": {Celsuis}\n",
    "    \"\"\")\n",
    "Fahrenheit_to_Celsuis() \n",
    "    \n",
    "    \n",
    "    "
   ]
  },
  {
   "cell_type": "code",
   "execution_count": 2,
   "id": "72b53704",
   "metadata": {},
   "outputs": [
    {
     "name": "stdout",
     "output_type": "stream",
     "text": [
      "Enter temperature in celsuis:67\n",
      "____TEMPERATURE___\n",
      "    \"fah\": 152.6\n",
      "    \n"
     ]
    }
   ],
   "source": [
    "def Celsuis_to_Fahrenheit():\n",
    "    celsuis= float(input(\"Enter temperature in celsuis:\"))\n",
    "    Fahrenheit= round((celsuis * 9/5)+(32),2)\n",
    "    print(f\"\"\"____TEMPERATURE___\n",
    "    \"fah\": {Fahrenheit}\n",
    "    \"\"\")\n",
    "Celsuis_to_Fahrenheit() \n",
    "    "
   ]
  },
  {
   "cell_type": "code",
   "execution_count": null,
   "id": "ce24c032",
   "metadata": {},
   "outputs": [],
   "source": []
  }
 ],
 "metadata": {
  "kernelspec": {
   "display_name": "Python 3 (ipykernel)",
   "language": "python",
   "name": "python3"
  },
  "language_info": {
   "codemirror_mode": {
    "name": "ipython",
    "version": 3
   },
   "file_extension": ".py",
   "mimetype": "text/x-python",
   "name": "python",
   "nbconvert_exporter": "python",
   "pygments_lexer": "ipython3",
   "version": "3.11.5"
  }
 },
 "nbformat": 4,
 "nbformat_minor": 5
}
