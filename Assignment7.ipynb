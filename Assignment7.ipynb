{
 "cells": [
  {
   "cell_type": "code",
   "execution_count": 9,
   "id": "7996c479",
   "metadata": {},
   "outputs": [],
   "source": [
    "class Elevator:\n",
    "    def __init__(self,current_floor,max_floor,min_floor,direction):\n",
    "        self.current_floor=current_floor\n",
    "        self.max_floor=max_floor\n",
    "        self.min_floor=min_floor\n",
    "        self.direction=direction\n",
    "    \n",
    "        \n",
    "    def move_up(self):\n",
    "        self.direction=input(\"choose your direction[UP,DOWN]:\")\n",
    "        self.current_floor=input(\"choose floor options with [G,1,2,3,4,5,6,7,8,9,10]:\")\n",
    "        if self.current_floor == \"G\":\n",
    "            print(f'elevator moving up to the FIRST floor')\n",
    "        elif self.current_floor == \"1\":\n",
    "            print(f'elevator moving up to the SECOND floor')\n",
    "        elif self.current_floor == \"2\":\n",
    "            print(f'elevator moving up to the THIRD floor')\n",
    "        elif self.current_floor == \"3\":\n",
    "            print(f'elevator moving up to the FOURTH floor')\n",
    "        elif self.current_floor == \"4\":\n",
    "            print(f'elevator moving up to the FIFTH floor')\n",
    "        elif self.current_floor == \"5\":\n",
    "            print(f'elevator moving up to the SIXTH floor')\n",
    "        elif self.current_floor == \"6\":\n",
    "            print(f'elevator moving up to the SEVENTH floor')\n",
    "        elif self.current_floor == \"7\":\n",
    "            print(f'elevator moving up to the EIGHTH floor')\n",
    "        elif self.current_floor == \"8\":\n",
    "            print(f'elevator moving up to the NINETH floor')\n",
    "        elif self.current_floor == \"9\":\n",
    "            print(f'elevator moving up to the TENTH floor')\n",
    "        else:\n",
    "            print(f'elevator already on the {self.max_floor}')\n",
    "       \n",
    "    \n",
    "    def move_down(self):\n",
    "        self.direction=input(\"choose your direction[UP,DOWN]:\")\n",
    "        self.current_floor=input(\"choose floor options with [G,1,2,3,4,5,6,7,8,9,10]:\")\n",
    "        if self.current_floor == \"10\":\n",
    "            print(f'elevator moving down to the NINETH floor')\n",
    "        elif self.current_floor == \"9\":\n",
    "            print(f'elevator moving down to the EIGHTH floor')\n",
    "        elif self.current_floor == \"8\":\n",
    "            print(f'elevator moving down to the SEVENTH floor')\n",
    "        elif self.current_floor == \"7\":\n",
    "            print(f'elevator moving down to the SIX floor')\n",
    "        elif self.current_floor == \"6\":\n",
    "            print(f'elevator moving down to the FIFTH floor')\n",
    "        elif self.current_floor == \"5\":\n",
    "            print(f'elevator moving down to the FOURTH floor')\n",
    "        elif self.current_floor == \"4\":\n",
    "            print(f'elevator moving down to the THIRD floor')\n",
    "        elif self.current_floor == \"3\":\n",
    "            print(f'elevator moving down to the SECOND floor')\n",
    "        elif self.current_floor == \"2\":\n",
    "            print(f'elevator moving down to the FIRST floor')\n",
    "        elif self.current_floor == \"1\":\n",
    "            print(f'elevator moving down to the GROUND floor')\n",
    "        else:\n",
    "            print(f'elevator already on the {self.min_floor}')\n",
    "            \n",
    "           \n",
    "    def go_to_floor(self):\n",
    "        self.direction=input(\"choose your direction[UP,DOWN]:\")\n",
    "        floor_option=input(\"choose floor option with [G,1,2,3,4,5,6,7,8,9,10]:\")\n",
    "        if floor_option == \"G\":\n",
    "            print(f'elevator already on the {self.min_floor}')\n",
    "        elif floor_option == \"1\":\n",
    "            print(f'elevator moving to floor ONE')\n",
    "        elif floor_option == \"2\":\n",
    "            print(f'elevator moving to floor TWO')\n",
    "        elif floor_option == \"3\":\n",
    "            print(f'elevator moving to floor THREE')\n",
    "        elif floor_option == \"4\":\n",
    "            print(f'elevator moving to floor FOUR')\n",
    "        elif floor_option == \"5\":\n",
    "            print(f'elevator moving to floor FIVE')\n",
    "        elif floor_option == \"6\":\n",
    "            print(f'elevator moving to floor SIX')\n",
    "        elif floor_option == \"7\":\n",
    "            print(f'elevator moving to floor SEVEN')\n",
    "        elif floor_option == \"8\":\n",
    "            print(f'elevator moving to floor EIGHT')\n",
    "        elif floor_option == \"9\":\n",
    "            print(f'elevator moving to floor NINE')\n",
    "        elif floor_option == \"10\":\n",
    "            print(f'elevator moving to the {self.max_floor}')\n",
    "        else:\n",
    "            print(f'out of elevator range, input a number from G to 10')\n",
    "                    \n",
    "    def open_doors(self):\n",
    "            print(f'welcome elevator doors opens in 1....2...3....')\n",
    "                    \n",
    "    def close_doors(self):\n",
    "            print(f'elevator doors closing')\n",
    "            \n",
    "Building1=Elevator(\"G\",10,\"GROUND FLOOR\",[\"UP\", \"DOWN\"])\n",
    "\n"
   ]
  },
  {
   "cell_type": "code",
   "execution_count": 2,
   "id": "0f6e6301",
   "metadata": {},
   "outputs": [
    {
     "name": "stdout",
     "output_type": "stream",
     "text": [
      "choose your direction[UP,DOWN]:UP\n",
      "choose floor options with [G,1,2,3,4,5,6,7,8,9,10]:6\n",
      "elevator moving up to the SEVENTH floor\n"
     ]
    }
   ],
   "source": [
    "Building1.move_up()"
   ]
  },
  {
   "cell_type": "code",
   "execution_count": 5,
   "id": "d13f091d",
   "metadata": {},
   "outputs": [
    {
     "name": "stdout",
     "output_type": "stream",
     "text": [
      "choose your direction[UP,DOWN]:DOWN\n",
      "choose floor options with [G,1,2,3,4,5,6,7,8,9,10]:7\n",
      "elevator moving down to the SIX floor\n"
     ]
    }
   ],
   "source": [
    "Building1.move_down()"
   ]
  },
  {
   "cell_type": "code",
   "execution_count": 6,
   "id": "d5de589e",
   "metadata": {},
   "outputs": [
    {
     "name": "stdout",
     "output_type": "stream",
     "text": [
      "welcome elevator doors opens in 1....2...3....\n"
     ]
    }
   ],
   "source": [
    "Building1.open_doors()"
   ]
  },
  {
   "cell_type": "code",
   "execution_count": 7,
   "id": "0b195780",
   "metadata": {},
   "outputs": [
    {
     "name": "stdout",
     "output_type": "stream",
     "text": [
      "choose your direction[UP,DOWN]:DOWN\n",
      "choose floor option with [G,1,2,3,4,5,6,7,8,9,10]:G\n",
      "elevator already on the GROUND FLOOR\n"
     ]
    }
   ],
   "source": [
    "Building1.go_to_floor()"
   ]
  },
  {
   "cell_type": "code",
   "execution_count": null,
   "id": "cd48a24d",
   "metadata": {},
   "outputs": [],
   "source": [
    "Building1.go_to_floor()"
   ]
  },
  {
   "cell_type": "code",
   "execution_count": 4,
   "id": "2675865c",
   "metadata": {},
   "outputs": [
    {
     "name": "stdout",
     "output_type": "stream",
     "text": [
      "elevator doors closing\n"
     ]
    }
   ],
   "source": [
    " Building1.close_doors()  "
   ]
  },
  {
   "cell_type": "code",
   "execution_count": 10,
   "id": "ca287f23",
   "metadata": {},
   "outputs": [
    {
     "name": "stdout",
     "output_type": "stream",
     "text": [
      "choose your direction[UP,DOWN]:UP\n",
      "choose floor option with [G,1,2,3,4,5,6,7,8,9,10]:11\n",
      "out of elevator range, input a number from G to 10\n"
     ]
    }
   ],
   "source": [
    "Building1.go_to_floor()"
   ]
  },
  {
   "cell_type": "code",
   "execution_count": null,
   "id": "ccb79a1b",
   "metadata": {},
   "outputs": [],
   "source": []
  },
  {
   "cell_type": "code",
   "execution_count": null,
   "id": "2a399409",
   "metadata": {},
   "outputs": [],
   "source": []
  }
 ],
 "metadata": {
  "kernelspec": {
   "display_name": "Python 3 (ipykernel)",
   "language": "python",
   "name": "python3"
  },
  "language_info": {
   "codemirror_mode": {
    "name": "ipython",
    "version": 3
   },
   "file_extension": ".py",
   "mimetype": "text/x-python",
   "name": "python",
   "nbconvert_exporter": "python",
   "pygments_lexer": "ipython3",
   "version": "3.11.5"
  }
 },
 "nbformat": 4,
 "nbformat_minor": 5
}
