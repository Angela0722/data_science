{
 "cells": [
  {
   "cell_type": "markdown",
   "id": "b4990c58",
   "metadata": {},
   "source": [
    "## Iterable objects"
   ]
  },
  {
   "cell_type": "markdown",
   "id": "d25d2e6a",
   "metadata": {},
   "source": [
    "## iterable objects are used to loop over element one by one\n",
    "## Turple\n",
    "## List\n",
    "## Dictionary"
   ]
  },
  {
   "cell_type": "markdown",
   "id": "27bf38e0",
   "metadata": {},
   "source": [
    "## Turple"
   ]
  },
  {
   "cell_type": "code",
   "execution_count": null,
   "id": "9dbf10b8",
   "metadata": {},
   "outputs": [],
   "source": [
    "## Turple unchangeable\n",
    "## Turple uses the bracket ()\n",
    "## Turple use index location to access each element."
   ]
  },
  {
   "cell_type": "code",
   "execution_count": 8,
   "id": "90349362",
   "metadata": {},
   "outputs": [
    {
     "name": "stdout",
     "output_type": "stream",
     "text": [
      "(10, 24, 25, 90, 100, 40, 50, 70, 'Michael')\n",
      "<class 'tuple'>\n",
      "9\n"
     ]
    }
   ],
   "source": [
    "numbers=(10,24,25,90,100,40,50,70,\"Michael\")\n",
    "print(numbers)\n",
    "print(type(numbers))\n",
    "print(len(numbers))"
   ]
  },
  {
   "cell_type": "code",
   "execution_count": 9,
   "id": "d84deda8",
   "metadata": {},
   "outputs": [
    {
     "name": "stdout",
     "output_type": "stream",
     "text": [
      "Michael\n"
     ]
    }
   ],
   "source": [
    "## forward index\n",
    "print(numbers[8])"
   ]
  },
  {
   "cell_type": "code",
   "execution_count": 10,
   "id": "77a7198e",
   "metadata": {},
   "outputs": [
    {
     "name": "stdout",
     "output_type": "stream",
     "text": [
      "40\n"
     ]
    }
   ],
   "source": [
    "## forward index\n",
    "print(numbers[5])"
   ]
  },
  {
   "cell_type": "code",
   "execution_count": 11,
   "id": "0580df00",
   "metadata": {},
   "outputs": [
    {
     "name": "stdout",
     "output_type": "stream",
     "text": [
      "100\n",
      "25\n"
     ]
    }
   ],
   "source": [
    "## backward index\n",
    "print(numbers[-5])\n",
    "print(numbers[-7])"
   ]
  },
  {
   "cell_type": "code",
   "execution_count": 15,
   "id": "5b947ecf",
   "metadata": {},
   "outputs": [
    {
     "name": "stdout",
     "output_type": "stream",
     "text": [
      "(24, 25, 90, 100, 40, 50, 70, 'Michael')\n",
      "(24, 25, 90, 100, 40)\n",
      "(25, 90, 100, 40, 50, 70)\n"
     ]
    }
   ],
   "source": [
    "## range\n",
    "print(numbers[1:9])\n",
    "print(numbers[1:6])\n",
    "print(numbers[2:8])"
   ]
  },
  {
   "cell_type": "code",
   "execution_count": 16,
   "id": "4071d346",
   "metadata": {},
   "outputs": [
    {
     "name": "stdout",
     "output_type": "stream",
     "text": [
      "(24, 25, 90, 100, 40, 50, 70)\n"
     ]
    }
   ],
   "source": [
    "## forward and backward range\n",
    "print(numbers[1:-1])"
   ]
  },
  {
   "cell_type": "code",
   "execution_count": 17,
   "id": "2a7b0cfa",
   "metadata": {},
   "outputs": [
    {
     "name": "stdout",
     "output_type": "stream",
     "text": [
      "(24, 25, 90, 100, 40, 50, 70, 'Michael')\n"
     ]
    }
   ],
   "source": [
    "## forward range\n",
    "print(numbers[1::])"
   ]
  },
  {
   "cell_type": "code",
   "execution_count": 18,
   "id": "99261e07",
   "metadata": {},
   "outputs": [
    {
     "name": "stdout",
     "output_type": "stream",
     "text": [
      "('Michael', 70, 50, 40, 100, 90, 25, 24, 10)\n"
     ]
    }
   ],
   "source": [
    "## reverse\n",
    "print(numbers[::-1])"
   ]
  },
  {
   "cell_type": "markdown",
   "id": "9e1f6e01",
   "metadata": {},
   "source": [
    "## List"
   ]
  },
  {
   "cell_type": "code",
   "execution_count": null,
   "id": "0e66e917",
   "metadata": {},
   "outputs": [],
   "source": [
    "## list changeable\n",
    "## list use the square bracket for identification []\n",
    "## list use index location to access each element"
   ]
  },
  {
   "cell_type": "code",
   "execution_count": 19,
   "id": "89dce0ab",
   "metadata": {},
   "outputs": [
    {
     "name": "stdout",
     "output_type": "stream",
     "text": [
      "['strawberry', 'orange', 'pineapple', 'watermelon']\n",
      "<class 'list'>\n"
     ]
    }
   ],
   "source": [
    "fruits=[\"strawberry\", \"orange\", \"pineapple\", \"watermelon\"]\n",
    "print(fruits)\n",
    "print(type(fruits))"
   ]
  },
  {
   "cell_type": "code",
   "execution_count": 20,
   "id": "4f1789bb",
   "metadata": {},
   "outputs": [
    {
     "name": "stdout",
     "output_type": "stream",
     "text": [
      "watermelon\n"
     ]
    }
   ],
   "source": [
    "print(fruits[3])"
   ]
  },
  {
   "cell_type": "code",
   "execution_count": 21,
   "id": "4728174b",
   "metadata": {},
   "outputs": [
    {
     "name": "stdout",
     "output_type": "stream",
     "text": [
      "pineapple\n"
     ]
    }
   ],
   "source": [
    "print(fruits[2])"
   ]
  },
  {
   "cell_type": "code",
   "execution_count": 22,
   "id": "b26e7335",
   "metadata": {},
   "outputs": [
    {
     "name": "stdout",
     "output_type": "stream",
     "text": [
      "['strawberry', 'orange', 'pineapple', 'watermelon', 'cherry']\n"
     ]
    }
   ],
   "source": [
    "fruits.append(\"cherry\") ## append is used ro add element to a list\n",
    "print(fruits)"
   ]
  },
  {
   "cell_type": "code",
   "execution_count": 23,
   "id": "23e0b590",
   "metadata": {},
   "outputs": [
    {
     "name": "stdout",
     "output_type": "stream",
     "text": [
      "['strawberry', 'orange', 'pineapple', 'watermelon']\n"
     ]
    }
   ],
   "source": [
    "fruits.remove(\"cherry\")\n",
    "print(fruits)"
   ]
  },
  {
   "cell_type": "code",
   "execution_count": 24,
   "id": "ede53960",
   "metadata": {},
   "outputs": [
    {
     "name": "stdout",
     "output_type": "stream",
     "text": [
      "['strawberry', 'orange', 'pineapple', 'watermelon', 'mango', 'apple', 'blueberries', 'banana']\n"
     ]
    }
   ],
   "source": [
    "fruits.extend([\"mango\", \"apple\", \"blueberries\", \"banana\"])\n",
    "print(fruits)"
   ]
  },
  {
   "cell_type": "code",
   "execution_count": 25,
   "id": "a368ce7a",
   "metadata": {},
   "outputs": [
    {
     "name": "stdout",
     "output_type": "stream",
     "text": [
      "['apple', 'banana', 'blueberries', 'mango', 'orange', 'pineapple', 'strawberry', 'watermelon']\n"
     ]
    }
   ],
   "source": [
    "fruits.sort()\n",
    "print(fruits) ## sort arranges the each element alphabetically"
   ]
  },
  {
   "cell_type": "code",
   "execution_count": 26,
   "id": "d7bcf47b",
   "metadata": {},
   "outputs": [
    {
     "name": "stdout",
     "output_type": "stream",
     "text": [
      "['apple', 'banana', 'blueberries', 'mango', 'orange', 'pineapple', 'strawberry', 'watermelon']\n"
     ]
    }
   ],
   "source": [
    "fruits2=fruits.copy()\n",
    "print(fruits)"
   ]
  },
  {
   "cell_type": "code",
   "execution_count": 27,
   "id": "c0b5f29d",
   "metadata": {},
   "outputs": [
    {
     "name": "stdout",
     "output_type": "stream",
     "text": [
      "['Ogun', 'Abia', 'Enugu', 'Sokoto', 'Niger']\n"
     ]
    }
   ],
   "source": [
    "states=[\"Ogun\", \"Abia\", \"Enugu\", \"Sokoto\", \"Niger\"]\n",
    "print(states)"
   ]
  },
  {
   "cell_type": "code",
   "execution_count": null,
   "id": "4cabb551",
   "metadata": {},
   "outputs": [],
   "source": [
    "## Dictionary\n",
    "## Dictionary changeable\n",
    "## Dictionary uses curly bracket for identification {}\n",
    "## Dictionay use the key to locate the element."
   ]
  },
  {
   "cell_type": "code",
   "execution_count": 6,
   "id": "c5e205c6",
   "metadata": {},
   "outputs": [
    {
     "name": "stdout",
     "output_type": "stream",
     "text": [
      "<class 'dict'>\n",
      "{'Name': 'Emmanuel', 'Age': 40, 'Marital_status': 'Married', 'Date': '04-11-2023', 'Gender': 'Male'}\n"
     ]
    }
   ],
   "source": [
    "human={\n",
    "    \"Name\":\"Emmanuel\",\n",
    "    \"Age\":40,\n",
    "    \"Marital_status\":\"Married\",\n",
    "    \"Date\":\"04-11-2023\",\n",
    "    \"Gender\":\"Male\"\n",
    "}\n",
    "print(type(human))\n",
    "print(human)\n",
    "\n",
    "    "
   ]
  },
  {
   "cell_type": "code",
   "execution_count": 5,
   "id": "d47e334e",
   "metadata": {},
   "outputs": [
    {
     "name": "stdout",
     "output_type": "stream",
     "text": [
      "dict_values(['Emmanuel', 40, 'Married', '04-11-2023', 'Male'])\n",
      "dict_keys(['Name', 'Age', 'Marital_status', 'Date', 'Gender'])\n"
     ]
    }
   ],
   "source": [
    "print(human.values())\n",
    "print(human.keys())"
   ]
  },
  {
   "cell_type": "code",
   "execution_count": 7,
   "id": "b7bfb1bf",
   "metadata": {},
   "outputs": [
    {
     "name": "stdout",
     "output_type": "stream",
     "text": [
      "{'Name': 'Emmanuel', 'Age': 40, 'Marital_status': 'Married', 'Date': '04-11-2023', 'Gender': 'Male', 'height': 1.97}\n"
     ]
    }
   ],
   "source": [
    "## adding a value inside a dictionary\n",
    "r=({\"height\":1.97})\n",
    "human.update(r)\n",
    "print(human)"
   ]
  },
  {
   "cell_type": "code",
   "execution_count": 8,
   "id": "5cddae5b",
   "metadata": {},
   "outputs": [
    {
     "name": "stdout",
     "output_type": "stream",
     "text": [
      "{'Name': 'Emmanuel', 'Age': 40, 'Marital_status': 'Married', 'Date': '04-11-2023', 'Gender': 'Male', 'height': 1.97, 'height2': [1.92]}\n"
     ]
    }
   ],
   "source": [
    "## method2\n",
    "human[\"height2\"]=[1.92]\n",
    "print(human)"
   ]
  },
  {
   "cell_type": "code",
   "execution_count": 9,
   "id": "d09b961b",
   "metadata": {},
   "outputs": [
    {
     "name": "stdout",
     "output_type": "stream",
     "text": [
      "{'Name': 'Emmanuel', 'Age': 40, 'Marital_status': 'Married', 'Date': '04-11-2023', 'Gender': 'Female', 'height': 1.97, 'height2': [1.92]}\n"
     ]
    }
   ],
   "source": [
    "## modify a particular value.\n",
    "human[\"Gender\"]= \"Female\"\n",
    "print(human)"
   ]
  },
  {
   "cell_type": "code",
   "execution_count": 10,
   "id": "5480d110",
   "metadata": {},
   "outputs": [
    {
     "ename": "SyntaxError",
     "evalue": "invalid syntax (1919969492.py, line 1)",
     "output_type": "error",
     "traceback": [
      "\u001b[0;36m  Cell \u001b[0;32mIn[10], line 1\u001b[0;36m\u001b[0m\n\u001b[0;31m    de1 human[\"height2\"]\u001b[0m\n\u001b[0m        ^\u001b[0m\n\u001b[0;31mSyntaxError\u001b[0m\u001b[0;31m:\u001b[0m invalid syntax\n"
     ]
    }
   ],
   "source": [
    "de1 human[\"height2\"]"
   ]
  },
  {
   "cell_type": "code",
   "execution_count": 11,
   "id": "31ea8ca7",
   "metadata": {},
   "outputs": [
    {
     "name": "stdout",
     "output_type": "stream",
     "text": [
      "{'Name': 'Emmanuel', 'Age': 40, 'Marital_status': 'Married', 'Date': '04-11-2023', 'Gender': 'Female', 'height': 1.97, 'height2': [1.92]}\n"
     ]
    }
   ],
   "source": [
    "print(human)"
   ]
  },
  {
   "cell_type": "code",
   "execution_count": 13,
   "id": "8a31843d",
   "metadata": {},
   "outputs": [
    {
     "name": "stdout",
     "output_type": "stream",
     "text": [
      "david\n"
     ]
    }
   ],
   "source": [
    "## Exercise\n",
    "## create a dictionary of a student name and subjects in which they offered.\n",
    "students={\n",
    "    \"name\":{\"name1\":\"david\",\"name2\":\"joy\",\"name3\":\"musa\"},\n",
    "    \"subjects\":{\"subject1\":\"futhermaths\",\"subject2\":\"biology\",\"subject3\":\"English\"}}\n",
    "print(students[\"name\"][\"name1\"])"
   ]
  },
  {
   "cell_type": "code",
   "execution_count": 14,
   "id": "a36b4e1d",
   "metadata": {},
   "outputs": [
    {
     "name": "stdout",
     "output_type": "stream",
     "text": [
      "biology\n"
     ]
    }
   ],
   "source": [
    "print(students[\"subjects\"][\"subject2\"])"
   ]
  },
  {
   "cell_type": "code",
   "execution_count": null,
   "id": "af7c3226",
   "metadata": {},
   "outputs": [],
   "source": []
  },
  {
   "cell_type": "code",
   "execution_count": null,
   "id": "ced1f797",
   "metadata": {},
   "outputs": [],
   "source": []
  },
  {
   "cell_type": "code",
   "execution_count": null,
   "id": "6126fe44",
   "metadata": {},
   "outputs": [],
   "source": []
  }
 ],
 "metadata": {
  "kernelspec": {
   "display_name": "Python 3 (ipykernel)",
   "language": "python",
   "name": "python3"
  },
  "language_info": {
   "codemirror_mode": {
    "name": "ipython",
    "version": 3
   },
   "file_extension": ".py",
   "mimetype": "text/x-python",
   "name": "python",
   "nbconvert_exporter": "python",
   "pygments_lexer": "ipython3",
   "version": "3.11.5"
  }
 },
 "nbformat": 4,
 "nbformat_minor": 5
}
