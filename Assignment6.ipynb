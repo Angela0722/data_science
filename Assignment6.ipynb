{
 "cells": [
  {
   "cell_type": "code",
   "execution_count": 1,
   "id": "f0263684",
   "metadata": {},
   "outputs": [
    {
     "name": "stdout",
     "output_type": "stream",
     "text": [
      "[0, 10, 20, 25, 45, 30, 15, 75, 55]\n"
     ]
    }
   ],
   "source": [
    "num5=[0,3,7,10,20,25,45,30,32,38,15,75,55,19]\n",
    "nlist=list(filter(lambda x:x % 5 == 0,num5))\n",
    "print(nlist)\n"
   ]
  },
  {
   "cell_type": "code",
   "execution_count": 2,
   "id": "640ba7bc",
   "metadata": {},
   "outputs": [
    {
     "data": {
      "text/plain": [
       "18"
      ]
     },
     "execution_count": 2,
     "metadata": {},
     "output_type": "execute_result"
    }
   ],
   "source": [
    "def add(x,y):\n",
    "    return x + y\n",
    "add(6,12)"
   ]
  },
  {
   "cell_type": "code",
   "execution_count": null,
   "id": "03da3023",
   "metadata": {},
   "outputs": [],
   "source": []
  }
 ],
 "metadata": {
  "kernelspec": {
   "display_name": "Python 3 (ipykernel)",
   "language": "python",
   "name": "python3"
  },
  "language_info": {
   "codemirror_mode": {
    "name": "ipython",
    "version": 3
   },
   "file_extension": ".py",
   "mimetype": "text/x-python",
   "name": "python",
   "nbconvert_exporter": "python",
   "pygments_lexer": "ipython3",
   "version": "3.11.5"
  }
 },
 "nbformat": 4,
 "nbformat_minor": 5
}
