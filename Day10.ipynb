{
 "cells": [
  {
   "cell_type": "markdown",
   "id": "59c5465a",
   "metadata": {},
   "source": [
    " ## Date And Time"
   ]
  },
  {
   "cell_type": "code",
   "execution_count": 1,
   "id": "a50ba72e",
   "metadata": {},
   "outputs": [
    {
     "name": "stdout",
     "output_type": "stream",
     "text": [
      "['MAXYEAR', 'MINYEAR', 'UTC', '__all__', '__builtins__', '__cached__', '__doc__', '__file__', '__loader__', '__name__', '__package__', '__spec__', 'date', 'datetime', 'datetime_CAPI', 'sys', 'time', 'timedelta', 'timezone', 'tzinfo']\n"
     ]
    }
   ],
   "source": [
    "import datetime\n",
    "print(dir(datetime))"
   ]
  },
  {
   "cell_type": "code",
   "execution_count": 2,
   "id": "5b6242db",
   "metadata": {},
   "outputs": [
    {
     "data": {
      "text/plain": [
       "datetime.date(2022, 2, 15)"
      ]
     },
     "execution_count": 2,
     "metadata": {},
     "output_type": "execute_result"
    }
   ],
   "source": [
    "date1=datetime.date(2022,2,15)\n",
    "date1"
   ]
  },
  {
   "cell_type": "code",
   "execution_count": 3,
   "id": "774de5f0",
   "metadata": {},
   "outputs": [
    {
     "name": "stdout",
     "output_type": "stream",
     "text": [
      "2022\n",
      "15\n",
      "2\n",
      "2022\n",
      "1\n"
     ]
    }
   ],
   "source": [
    "print(date1.year)\n",
    "print(date1.day)\n",
    "print(date1.month)\n",
    "print(date1.year)\n",
    "print(date1.weekday())"
   ]
  },
  {
   "cell_type": "code",
   "execution_count": 4,
   "id": "f99f8e55",
   "metadata": {},
   "outputs": [
    {
     "data": {
      "text/plain": [
       "datetime.date(2024, 2, 19)"
      ]
     },
     "execution_count": 4,
     "metadata": {},
     "output_type": "execute_result"
    }
   ],
   "source": [
    "currentdate=datetime.date.today()\n",
    "currentdate"
   ]
  },
  {
   "cell_type": "code",
   "execution_count": 5,
   "id": "768ac488",
   "metadata": {},
   "outputs": [
    {
     "data": {
      "text/plain": [
       "'19 of February,2024'"
      ]
     },
     "execution_count": 5,
     "metadata": {},
     "output_type": "execute_result"
    }
   ],
   "source": [
    "## strftime: this is used for modification of date and time\n",
    "currentdate.strftime(\"%d of %B,%Y\")"
   ]
  },
  {
   "cell_type": "code",
   "execution_count": 6,
   "id": "4d196d92",
   "metadata": {},
   "outputs": [
    {
     "data": {
      "text/plain": [
       "datetime.time(12, 23, 29, 701765)"
      ]
     },
     "execution_count": 6,
     "metadata": {},
     "output_type": "execute_result"
    }
   ],
   "source": [
    "current_times=datetime.datetime.now().time()\n",
    "current_times"
   ]
  },
  {
   "cell_type": "code",
   "execution_count": 7,
   "id": "db4406f5",
   "metadata": {},
   "outputs": [
    {
     "data": {
      "text/plain": [
       "'12::23::29::PM'"
      ]
     },
     "execution_count": 7,
     "metadata": {},
     "output_type": "execute_result"
    }
   ],
   "source": [
    "current_times.strftime(\"%H::%M::%S::%p\")"
   ]
  },
  {
   "cell_type": "code",
   "execution_count": 8,
   "id": "062c5819",
   "metadata": {},
   "outputs": [
    {
     "data": {
      "text/plain": [
       "datetime.datetime(2024, 2, 19, 12, 26, 24, 473006)"
      ]
     },
     "execution_count": 8,
     "metadata": {},
     "output_type": "execute_result"
    }
   ],
   "source": [
    "current_date_time=datetime.datetime.now()\n",
    "current_date_time"
   ]
  },
  {
   "cell_type": "code",
   "execution_count": 9,
   "id": "c0c12236",
   "metadata": {},
   "outputs": [
    {
     "name": "stdout",
     "output_type": "stream",
     "text": [
      "Enter your date[mm/dd/yy]05/22/2002\n"
     ]
    },
    {
     "data": {
      "text/plain": [
       "datetime.date(2002, 5, 22)"
      ]
     },
     "execution_count": 9,
     "metadata": {},
     "output_type": "execute_result"
    }
   ],
   "source": [
    "cdate=input(\"Enter your date[mm/dd/yy]\")\n",
    "condate=datetime.datetime.strptime(cdate,\"%m/%d/%Y\").date()\n",
    "condate"
   ]
  },
  {
   "cell_type": "code",
   "execution_count": 10,
   "id": "b561cd20",
   "metadata": {},
   "outputs": [
    {
     "data": {
      "text/plain": [
       "datetime.timedelta(days=7943)"
      ]
     },
     "execution_count": 10,
     "metadata": {},
     "output_type": "execute_result"
    }
   ],
   "source": [
    "currentdate - condate"
   ]
  },
  {
   "cell_type": "code",
   "execution_count": 11,
   "id": "4e0430ca",
   "metadata": {},
   "outputs": [
    {
     "data": {
      "text/plain": [
       "datetime.date(2024, 7, 18)"
      ]
     },
     "execution_count": 11,
     "metadata": {},
     "output_type": "execute_result"
    }
   ],
   "source": [
    "currentdate + datetime.timedelta(days=150)"
   ]
  },
  {
   "cell_type": "code",
   "execution_count": 12,
   "id": "582f5843",
   "metadata": {},
   "outputs": [
    {
     "data": {
      "text/plain": [
       "datetime.date(2023, 9, 22)"
      ]
     },
     "execution_count": 12,
     "metadata": {},
     "output_type": "execute_result"
    }
   ],
   "source": [
    "currentdate - datetime.timedelta(days=150)"
   ]
  },
  {
   "cell_type": "code",
   "execution_count": 18,
   "id": "2322a406",
   "metadata": {},
   "outputs": [
    {
     "name": "stdout",
     "output_type": "stream",
     "text": [
      "Enter your appointment date[yy/mm/dd]:2024/04/05\n",
      "Dear user you have 6weeks and 4 days until your appointment date\n"
     ]
    }
   ],
   "source": [
    "appdate=input(\"Enter your appointment date[yy/mm/dd]:\")\n",
    "appdate=datetime.datetime.strptime(appdate,\"%Y/%m/%d\").date()\n",
    "currentdate=datetime.date.today()\n",
    "diff= appdate - currentdate\n",
    "noweeks= diff.days//7\n",
    "nodays= diff.days % 7\n",
    "print(f'Dear user you have {noweeks}weeks and {nodays} days until your appointment date')\n"
   ]
  },
  {
   "cell_type": "code",
   "execution_count": null,
   "id": "a7506b1c",
   "metadata": {},
   "outputs": [],
   "source": [
    "## Exercise\n",
    "## write a program to the following to display patient record,\n",
    "## calculate their checking fee based on the continent,\n",
    "## check their bodymass index\n",
    "## note read and understand the question to show what attribute are needed."
   ]
  },
  {
   "cell_type": "code",
   "execution_count": 29,
   "id": "c449846a",
   "metadata": {},
   "outputs": [],
   "source": [
    "class patientrecord:\n",
    "    def __init__(self,name,age,height,weight,complexion):\n",
    "        self.name=name\n",
    "        self.age=age\n",
    "        self.height=height\n",
    "        self.weight=weight\n",
    "        self.complexion=complexion\n",
    "    def start(self):\n",
    "        print(f'''____Patient Record___\n",
    "        \"Name\":{self.name}\n",
    "        \"Age\":{self.age}\n",
    "        \"Height\":{self.height}\n",
    "        \"Weight\":{self.weight}\n",
    "        \"Complexion\":{self.complexion}\n",
    "        ''')\n",
    "    def continent(self):\n",
    "        checking_fee=input(\"Please select your checking_fee option[USA,Canada,Nigeria,Ghana,Australia,Mexico]:\")\n",
    "        if checking_fee == \"USA\":\n",
    "            print(\"The amount USA in dollars is $60\")\n",
    "        elif checking_fee == \"Canada\":\n",
    "            print(\"The amount Canada in dollars is $75\")\n",
    "        elif checking_fee == \"Nigeria\":\n",
    "            print(\"The amount Nigeria in dollars is $250\")\n",
    "        elif checking_fee == \"Ghana\":\n",
    "            print(\"The amount Ghana in dollars is $180\")\n",
    "        elif checking_fee == \"Australia\":\n",
    "            print(\"The amount Australia in dollars is $70\")\n",
    "        elif checking_fee == \"Mexico\":\n",
    "            print(\"The amount Mexico in dollars is $100\")\n",
    "        else:\n",
    "            print(\"Sorry your country is not found\")\n",
    "            \n",
    "    def body_mass_index(self):\n",
    "        height=float(input(\"What is your height in meters:\"))\n",
    "        weight=float(input(\"Enter your weight in kg:\"))\n",
    "        bmi=round(weight/(height**2),2)\n",
    "        if bmi < 18.5:\n",
    "            print(f'your BMI is {bmi},you are underweight,you need to see your doctor')\n",
    "        elif bmi >= 18.5 and bmi <= 24.99:\n",
    "            print(f'your BMI is {bmi},you are healthy')\n",
    "        elif bmi >= 25 and bmi <= 30:\n",
    "            print(f'your BMI is {bmi},you are overweight,see your doctor immediately')\n",
    "        else:\n",
    "            print(f'your bmi is {bmi},you are extremely obese,see your doctor immediately')\n",
    "            \n",
    "Health=patientrecord(\"Jenny\",29,1.6,69,\"Fair\")\n",
    "                    \n",
    "        \n",
    "            \n",
    "        "
   ]
  },
  {
   "cell_type": "code",
   "execution_count": 30,
   "id": "069ee515",
   "metadata": {},
   "outputs": [
    {
     "name": "stdout",
     "output_type": "stream",
     "text": [
      "____Patient Record___\n",
      "        \"Name\":Jenny\n",
      "        \"Age\":29\n",
      "        \"Height\":1.6\n",
      "        \"Weight\":69\n",
      "        \"Complexion\":Fair\n",
      "        \n"
     ]
    }
   ],
   "source": [
    "Health.start()"
   ]
  },
  {
   "cell_type": "code",
   "execution_count": 31,
   "id": "002de72b",
   "metadata": {},
   "outputs": [
    {
     "name": "stdout",
     "output_type": "stream",
     "text": [
      "What is your height in meters:1.6\n",
      "Enter your weight in kg:69\n",
      "your BMI is 26.95,you are overweight,see your doctor immediately\n"
     ]
    }
   ],
   "source": [
    "Health.body_mass_index()"
   ]
  },
  {
   "cell_type": "code",
   "execution_count": 32,
   "id": "d6549105",
   "metadata": {},
   "outputs": [
    {
     "name": "stdout",
     "output_type": "stream",
     "text": [
      "Please select your checking_fee option[USA,Canada,Nigeria,Ghana,Australia,Mexico]:USA\n",
      "The amount USA in dollars is $60\n"
     ]
    }
   ],
   "source": [
    "Health.continent()"
   ]
  },
  {
   "cell_type": "code",
   "execution_count": 33,
   "id": "03683159",
   "metadata": {},
   "outputs": [
    {
     "name": "stdout",
     "output_type": "stream",
     "text": [
      "Please select your checking_fee option[USA,Canada,Nigeria,Ghana,Australia,Mexico]:Uganda\n",
      "Sorry your country is not found\n"
     ]
    }
   ],
   "source": [
    "Health.continent()"
   ]
  },
  {
   "cell_type": "code",
   "execution_count": 1,
   "id": "ea46dbc1",
   "metadata": {},
   "outputs": [
    {
     "data": {
      "text/plain": [
       "4"
      ]
     },
     "execution_count": 1,
     "metadata": {},
     "output_type": "execute_result"
    }
   ],
   "source": [
    "2 * 2"
   ]
  },
  {
   "cell_type": "code",
   "execution_count": null,
   "id": "037f6f49",
   "metadata": {},
   "outputs": [],
   "source": []
  }
 ],
 "metadata": {
  "kernelspec": {
   "display_name": "Python 3 (ipykernel)",
   "language": "python",
   "name": "python3"
  },
  "language_info": {
   "codemirror_mode": {
    "name": "ipython",
    "version": 3
   },
   "file_extension": ".py",
   "mimetype": "text/x-python",
   "name": "python",
   "nbconvert_exporter": "python",
   "pygments_lexer": "ipython3",
   "version": "3.11.5"
  }
 },
 "nbformat": 4,
 "nbformat_minor": 5
}
