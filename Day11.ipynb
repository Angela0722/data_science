{
 "cells": [
  {
   "cell_type": "code",
   "execution_count": null,
   "id": "833cfb19",
   "metadata": {},
   "outputs": [],
   "source": [
    "## Create a class called Car to represent a vehicle.\n",
    "## The Car class should have the following: make,model,year,color, and mileage.\n",
    "## Implement methods to display the car's information,\n",
    "## calculate its depreciation based on the number of years since its purchase, and\n",
    "## check if it needs an oil based on its mileage."
   ]
  },
  {
   "cell_type": "code",
   "execution_count": 3,
   "id": "44434722",
   "metadata": {},
   "outputs": [],
   "source": [
    "class Vehicle:\n",
    "    def __init__(self,make,model,year,color,mileage):\n",
    "        self.make= make\n",
    "        self.model= model\n",
    "        self.year= year\n",
    "        self.color=color\n",
    "        self.mileage= mileage\n",
    "        \n",
    "    def start(self):\n",
    "        print(f'''____Information___\n",
    "        \"make\":{self.make}\n",
    "        \"model\":{self.model}\n",
    "        \"year\":{self.year}\n",
    "        \"color\":{self.color}\n",
    "        \"mileage\":{self.mileage}\n",
    "        ''')\n",
    "        \n",
    "    def calculate_depreciation(self,current_year):\n",
    "        years_old= current_year - self.year\n",
    "        depreciation = 1000 * years_old\n",
    "        print(f\"The car has depreciated ${depreciation} since purchase.\")\n",
    "        \n",
    "    def check_oil(self):\n",
    "        if self.mileage >= 5000:\n",
    "            print(\"The car needs an oil change.\")\n",
    "        else:\n",
    "            print(\"The car is good to go.\")\n",
    "            \n",
    "Car_information =Vehicle('Lexus','RX350',2020,'Black',5000)\n",
    "        \n",
    "    "
   ]
  },
  {
   "cell_type": "code",
   "execution_count": 5,
   "id": "baf94f4f",
   "metadata": {},
   "outputs": [
    {
     "name": "stdout",
     "output_type": "stream",
     "text": [
      "____Information___\n",
      "        \"make\":Lexus\n",
      "        \"model\":RX350\n",
      "        \"year\":2020\n",
      "        \"color\":Black\n",
      "        \"mileage\":5000\n",
      "        \n"
     ]
    }
   ],
   "source": [
    "Car_information.start()"
   ]
  },
  {
   "cell_type": "code",
   "execution_count": 6,
   "id": "5a46ec7b",
   "metadata": {},
   "outputs": [
    {
     "name": "stdout",
     "output_type": "stream",
     "text": [
      "The car has depreciated $2000 since purchase.\n"
     ]
    }
   ],
   "source": [
    "Car_information.calculate_depreciation(2022)"
   ]
  },
  {
   "cell_type": "code",
   "execution_count": 7,
   "id": "3f26ee13",
   "metadata": {},
   "outputs": [
    {
     "name": "stdout",
     "output_type": "stream",
     "text": [
      "The car needs an oil change.\n"
     ]
    }
   ],
   "source": [
    "Car_information.check_oil()"
   ]
  },
  {
   "cell_type": "code",
   "execution_count": 4,
   "id": "53effbf2",
   "metadata": {},
   "outputs": [
    {
     "ename": "SyntaxError",
     "evalue": "unterminated string literal (detected at line 1) (2051543887.py, line 1)",
     "output_type": "error",
     "traceback": [
      "\u001b[0;36m  Cell \u001b[0;32mIn[4], line 1\u001b[0;36m\u001b[0m\n\u001b[0;31m    file=open(\"r\"file:///Users/uchechiangela/anaconda3/lib/python3.11/site-packages/bokeh/server/static/js/lib/document/Practice.txt',\"r\")\u001b[0m\n\u001b[0m                                                                                                                                    ^\u001b[0m\n\u001b[0;31mSyntaxError\u001b[0m\u001b[0;31m:\u001b[0m unterminated string literal (detected at line 1)\n"
     ]
    }
   ],
   "source": [
    "file=open(\"r\"file:///Users/uchechiangela/anaconda3/lib/python3.11/site-packages/bokeh/server/static/js/lib/document/Practice.txt',\"r\")\n",
    "content = file.read() \n",
    "print(content)"
   ]
  },
  {
   "cell_type": "markdown",
   "id": "ae8a1834",
   "metadata": {},
   "source": [
    "## Error handling"
   ]
  },
  {
   "cell_type": "code",
   "execution_count": 2,
   "id": "cbcaff55",
   "metadata": {},
   "outputs": [
    {
     "name": "stdout",
     "output_type": "stream",
     "text": [
      "What is your height in meters:23\n",
      "Enter your weight in kg:7\n",
      "your BMI is 0.30434782608695654,you are underweight,you need to see your doctor\n",
      "405\n",
      "end program now!!!\n"
     ]
    }
   ],
   "source": [
    " try:\n",
    "        \n",
    "        height=float(input(\"What is your height in meters:\"))\n",
    "        weight=float(input(\"Enter your weight in kg:\"))\n",
    "        bmi=weight/height\n",
    "        if bmi < 18.5:\n",
    "            print(f'your BMI is {bmi},you are underweight,you need to see your doctor')\n",
    "        elif bmi >= 18.5 and bmi <= 24.99:\n",
    "            print(f'your BMI is {bmi},you are healthy')\n",
    "        elif bmi >= 25 and bmi <= 30:\n",
    "            print(f'your BMI is {bmi},you are overweight,see your doctor immediately')\n",
    "        else:\n",
    "            print(f'your bmi is {bmi},you are extremely obese,see your doctor immediately')\n",
    "except ValueError:\n",
    "    print(\"wrong value,integer or float value is expected\")\n",
    "except ZeroDivisionError:\n",
    "    print(\"This is cannot be divided by 0\")\n",
    "## Handle any other unexpected errors\n",
    "except:\n",
    "    print('you have encountered one or more errors')          \n",
    "else:\n",
    "    print(45*9)\n",
    "finally:\n",
    "    print(\"end program now!!!\")\n",
    "##if no exception are raised, block will execute          "
   ]
  },
  {
   "cell_type": "code",
   "execution_count": null,
   "id": "d192492e",
   "metadata": {},
   "outputs": [],
   "source": []
  }
 ],
 "metadata": {
  "kernelspec": {
   "display_name": "Python 3 (ipykernel)",
   "language": "python",
   "name": "python3"
  },
  "language_info": {
   "codemirror_mode": {
    "name": "ipython",
    "version": 3
   },
   "file_extension": ".py",
   "mimetype": "text/x-python",
   "name": "python",
   "nbconvert_exporter": "python",
   "pygments_lexer": "ipython3",
   "version": "3.11.5"
  }
 },
 "nbformat": 4,
 "nbformat_minor": 5
}
