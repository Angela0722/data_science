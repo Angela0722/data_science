{
 "cells": [
  {
   "cell_type": "code",
   "execution_count": 1,
   "id": "7d9436ab",
   "metadata": {},
   "outputs": [
    {
     "name": "stdout",
     "output_type": "stream",
     "text": [
      "What is your monthly transaction:60000\n",
      "How much do you save:600000\n",
      "Sorry you are not eligible for the entrepreneurship program\n"
     ]
    }
   ],
   "source": [
    "monthly_transaction=int(input(\"What is your monthly transaction:\"))\n",
    "savings=int(input(\"How much do you save:\"))\n",
    "\n",
    "if (monthly_transaction >=100000 and monthly_transaction <500000) and (savings > 500000 and savings < 1000000):\n",
    "    print(\"Congratulations you are eligible for the entrepreneurship reward program\")\n",
    "elif (monthly_transaction >=500000 and monthly_transaction <1000000) and (savings > 1000000 and savings < 2000000):\n",
    "    print(\"Congratulations you are eligible for the entrepreneurship reward program\")\n",
    "elif (monthly_transaction >=5000000 and monthly_transaction <1000000) and (savings >= 10000000 and savings < 20000000): \n",
    "    print(\"Congratulations you are eligible for the entrepreneurship reward program\")\n",
    "else:\n",
    "    print(\"Sorry you are not eligible for the entrepreneurship program\")"
   ]
  },
  {
   "cell_type": "code",
   "execution_count": null,
   "id": "a06f2181",
   "metadata": {},
   "outputs": [],
   "source": []
  },
  {
   "cell_type": "code",
   "execution_count": null,
   "id": "15d319dc",
   "metadata": {},
   "outputs": [],
   "source": []
  },
  {
   "cell_type": "code",
   "execution_count": null,
   "id": "eccd17c1",
   "metadata": {},
   "outputs": [],
   "source": []
  }
 ],
 "metadata": {
  "kernelspec": {
   "display_name": "Python 3 (ipykernel)",
   "language": "python",
   "name": "python3"
  },
  "language_info": {
   "codemirror_mode": {
    "name": "ipython",
    "version": 3
   },
   "file_extension": ".py",
   "mimetype": "text/x-python",
   "name": "python",
   "nbconvert_exporter": "python",
   "pygments_lexer": "ipython3",
   "version": "3.11.5"
  }
 },
 "nbformat": 4,
 "nbformat_minor": 5
}
