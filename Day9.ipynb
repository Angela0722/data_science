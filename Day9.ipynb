{
 "cells": [
  {
   "cell_type": "code",
   "execution_count": null,
   "id": "01907763",
   "metadata": {},
   "outputs": [],
   "source": [
    "## Exercise\n",
    "## write a simulation program that has the following attributes\n",
    "## [brand,model,color,year,speed] and the following methods:\n",
    "## [start,change gear,acceration and stop].\n"
   ]
  },
  {
   "cell_type": "code",
   "execution_count": 1,
   "id": "97143ed4",
   "metadata": {},
   "outputs": [],
   "source": [
    "class simulation: ## parent class\n",
    "    def __init__(self,brand,model,color,year,speed):\n",
    "        self.brand=brand\n",
    "        self.model=model\n",
    "        self.color=color\n",
    "        self.year=year\n",
    "        self.speed=speed\n",
    "        \n",
    "    def start(self):\n",
    "        print(f'{self.brand} {self.model} has started')\n",
    "        \n",
    "    def gear(self):\n",
    "        option=input(\"choose gear option with,[1,2,3,4,5,R]\")\n",
    "        if option == \"1\":\n",
    "            print(f'Gear changed to one {self.model}')\n",
    "        elif option == \"2\":\n",
    "            print(f'Gear changed to two {self.model}')\n",
    "        elif option == \"3\":\n",
    "            print(f' Gear changed to three {self.model}')\n",
    "        elif option == \"4\":\n",
    "            print(f'Gear changed to four {self.model}')\n",
    "        elif option == \"5\":\n",
    "            print(f'Gear changed to five {self.model}')\n",
    "        elif option == \"R\":\n",
    "            print(\"Reverse\")\n",
    "            \n",
    "    def acceralation(self):\n",
    "        option=input(\"what is your NITRO SELECTION!!![ON,OFF]\")\n",
    "        if option == \"ON\":\n",
    "            print(\"NITRO ENGAGED!!!!\")\n",
    "        elif option == \"OFF\":\n",
    "            print(\"Nitro DisEngaged..\")\n",
    "            \n",
    "    def stop(self):\n",
    "        print(\"Engine OFF\")\n",
    "car1=simulation(\"MERCEDES BENZ\",\"4MATIC E20\",\"BLACK\",2022,\"200MPH\")\n",
    "\n",
    "    \n",
    "        "
   ]
  },
  {
   "cell_type": "code",
   "execution_count": 6,
   "id": "1b76556b",
   "metadata": {},
   "outputs": [
    {
     "name": "stdout",
     "output_type": "stream",
     "text": [
      "MERCEDES BENZ 4MATIC E20 has started\n"
     ]
    }
   ],
   "source": [
    "car1.start()"
   ]
  },
  {
   "cell_type": "code",
   "execution_count": 7,
   "id": "d5dfd14c",
   "metadata": {},
   "outputs": [
    {
     "name": "stdout",
     "output_type": "stream",
     "text": [
      "choose gear option with,[1,2,3,4,5,R]3\n",
      " Gear changed to three 4MATIC E20\n"
     ]
    }
   ],
   "source": [
    "car1.gear()"
   ]
  },
  {
   "cell_type": "code",
   "execution_count": 8,
   "id": "9e962022",
   "metadata": {},
   "outputs": [
    {
     "name": "stdout",
     "output_type": "stream",
     "text": [
      "what is your NITRO SELECTION!!![ON,OFF]ON\n",
      "NITRO ENGAGED!!!!\n"
     ]
    }
   ],
   "source": [
    "car1.acceralation()"
   ]
  },
  {
   "cell_type": "code",
   "execution_count": 9,
   "id": "d2a25e78",
   "metadata": {},
   "outputs": [
    {
     "name": "stdout",
     "output_type": "stream",
     "text": [
      "Engine OFF\n"
     ]
    }
   ],
   "source": [
    "car1.stop()"
   ]
  },
  {
   "cell_type": "code",
   "execution_count": null,
   "id": "328bb1c5",
   "metadata": {},
   "outputs": [],
   "source": [
    "## INHERITANCE IN CLASS\n",
    "## In object-oriented programming (OOP), inheritance is a mechanism that allows a new class\n",
    "## (called the subclass or derived class) to inherit properties and behaviors\n",
    "## (methods) from an existing class (called the superclass or base class)"
   ]
  },
  {
   "cell_type": "code",
   "execution_count": 17,
   "id": "fa1e2787",
   "metadata": {},
   "outputs": [],
   "source": [
    "class simulation2(simulation): ## child class(new class)\n",
    "    def openroof(self):\n",
    "        option=input(\"What is condition[open,close]:\")\n",
    "        if option == \"open\":\n",
    "            print(\"CAR ROOF TOP OPENING....\")\n",
    "        elif option == \"close\":\n",
    "            print(\"Car Roof Top Closed\")\n",
    "    def media(self):\n",
    "        option=input(\"What is your media selection[Radio,Bluetooth,Netflix,Prime Video,Youtube,spotify]\")\n",
    "        if option == \"Radio\":\n",
    "            print(\"FM found and now playing...\")\n",
    "        elif option == \"Bluetooth\":\n",
    "            print(\"DEVICE PAIRED and now playing...\")\n",
    "        elif option == \"Netflix\":\n",
    "            print(\"Netflix displaying on the screen...\")\n",
    "        elif option == \"Prime Video\":\n",
    "            print(\"Welcome to Prime Video...\")\n",
    "        elif option == \"Youtube\":\n",
    "            print(\"Youtube now displaying on the screen...\")\n",
    "car2=simulation2(\"MERCEDES BENZ\",\"4matic E20\",\"BLACK\",2022,\"300MPH\")"
   ]
  },
  {
   "cell_type": "code",
   "execution_count": 18,
   "id": "482b71ed",
   "metadata": {},
   "outputs": [
    {
     "name": "stdout",
     "output_type": "stream",
     "text": [
      "MERCEDES BENZ 4matic E20 has started\n"
     ]
    }
   ],
   "source": [
    "car2.start()"
   ]
  },
  {
   "cell_type": "code",
   "execution_count": 19,
   "id": "747d2415",
   "metadata": {},
   "outputs": [
    {
     "name": "stdout",
     "output_type": "stream",
     "text": [
      "choose gear option with,[1,2,3,4,5,R]3\n",
      " Gear changed to three 4matic E20\n"
     ]
    }
   ],
   "source": [
    "car2.gear()"
   ]
  },
  {
   "cell_type": "code",
   "execution_count": 20,
   "id": "8dbd0ec5",
   "metadata": {},
   "outputs": [
    {
     "name": "stdout",
     "output_type": "stream",
     "text": [
      "What is condition[open,close]:open\n",
      "CAR ROOF TOP OPENING....\n"
     ]
    }
   ],
   "source": [
    "car2.openroof()"
   ]
  },
  {
   "cell_type": "code",
   "execution_count": null,
   "id": "aaa76797",
   "metadata": {},
   "outputs": [],
   "source": [
    "car1.year()"
   ]
  }
 ],
 "metadata": {
  "kernelspec": {
   "display_name": "Python 3 (ipykernel)",
   "language": "python",
   "name": "python3"
  },
  "language_info": {
   "codemirror_mode": {
    "name": "ipython",
    "version": 3
   },
   "file_extension": ".py",
   "mimetype": "text/x-python",
   "name": "python",
   "nbconvert_exporter": "python",
   "pygments_lexer": "ipython3",
   "version": "3.11.5"
  }
 },
 "nbformat": 4,
 "nbformat_minor": 5
}
