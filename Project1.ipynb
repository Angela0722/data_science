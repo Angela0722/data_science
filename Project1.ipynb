{
 "cells": [
  {
   "cell_type": "code",
   "execution_count": null,
   "id": "71104ae3",
   "metadata": {},
   "outputs": [],
   "source": [
    "import pymysql"
   ]
  },
  {
   "cell_type": "code",
   "execution_count": null,
   "id": "90bfe812",
   "metadata": {},
   "outputs": [],
   "source": [
    "mydb =pymysql.connect(\n",
    "     host=\"localhost\",\n",
    "     port =3306,\n",
    "     user =\"root\",\n",
    "     password =\"1234\"\n",
    ")\n",
    "mycursor =mydb.cursor()\n"
   ]
  },
  {
   "cell_type": "code",
   "execution_count": null,
   "id": "7b9c1caf",
   "metadata": {},
   "outputs": [],
   "source": [
    "mycursor.execute(\"create database Library_Management_System\")\n",
    "mycursor.execute(\"show databases\")\n",
    "for x in mycursor:\n",
    "    print(x)"
   ]
  },
  {
   "cell_type": "code",
   "execution_count": null,
   "id": "f55046e9",
   "metadata": {},
   "outputs": [],
   "source": [
    "mycursor.execute(\"use Library_Management_System\")\n",
    "mycursor.execute(\"create table books(id int primary key not null, book_name varchar (255) not null, author varchar(255) not null)\")\n",
    "mycursor.execute(\"create table issue_details(id int not null,student_id varchar(10) not null,student_name varchar(50) not null)\")"
   ]
  },
  {
   "cell_type": "code",
   "execution_count": null,
   "id": "c9ed2215",
   "metadata": {},
   "outputs": [],
   "source": [
    "def add_book():\n",
    "    id = int(input(\"Enter book ID:\"))\n",
    "    book_name= input(\"Enter book name:\")\n",
    "    author=input(\"author name:\")\n",
    "    \n",
    "    query = \"insert into books(id,book_name,author) values (%s,%s,%s)\"\n",
    "    mycursor.execute(query,(id,book_name,author))\n",
    "    mydb.commit()\n",
    "    print(\"Book added successfully\")\n",
    "    \n",
    "def display_books():\n",
    "    mycursor.execute(\"select * from books\")\n",
    "    for x in mycursor:\n",
    "        print(x) \n",
    "        \n",
    "def issue_book():\n",
    "    student_name = input(\"Enter your name:\")\n",
    "    student_id = input(\"Enter your Reg No:\")\n",
    "    book_name = input(\"Enter book name:\")\n",
    "    query =\"insert into issued_details(id, student_id,student_name) value(%s,%s,%s)\"\n",
    "    mycursor.execute(query,(id,student_id,student_name))\n",
    "    mydb.commit()\n",
    "    print(book, \"book successfully issued to\", student_name)\n",
    "    \n",
    "def return_book():\n",
    "    id = int(input(\"Enter book ID:\"))\n",
    "    student_name = input(\"Enter your Name:\")\n",
    "    student_id = input(\"Enter your Reg no:\")\n",
    "    query = \"insert into return_books(id,student_name,student_id) values(%s,%s,%s)\"\n",
    "    mycursor.execute(query,(id,student_name,student_id))\n",
    "    mydb.commit()\n",
    "    print(\"book id\",bid,\"book returned by \",student_name)\n",
    "    \n",
    "def delete_book():\n",
    "    id=int(input(\"Enter book ID:\"))\n",
    "    query=\"delete from books where id = %s\"\n",
    "    mycursor.execute(query,(id))\n",
    "    mydb.commit()\n",
    "    print(\"Book successfully deleted\")\n",
    "    \n",
    "def main():\n",
    "    print(\"<<<<<< welcome ADMIN >>>>>>\")\n",
    "    print(\"OPERATION LIST[add,display,issue,return,delete,logout]\")\n",
    "    OPERATION = True\n",
    "    while OPERATION:\n",
    "        option = input(\"select operation:\")\n",
    "        if option == \"Add\".lower():\n",
    "            add_book()\n",
    "        elif option == \"Display\".lower():\n",
    "            display_books()\n",
    "        elif option == \"Issue\".lower():\n",
    "            issue_book()\n",
    "        elif option == \"Return\".lower():\n",
    "            return_book()\n",
    "        elif option == \"Delete\".lower():\n",
    "            delete_book()\n",
    "        elif option == \"logout\".lower():\n",
    "            OPERATION = False\n",
    "            print(\"OPERATION TERMINATED....\")\n",
    "            break\n"
   ]
  },
  {
   "cell_type": "code",
   "execution_count": null,
   "id": "741b78f3",
   "metadata": {},
   "outputs": [],
   "source": [
    "  "
   ]
  }
 ],
 "metadata": {
  "kernelspec": {
   "display_name": "Python 3 (ipykernel)",
   "language": "python",
   "name": "python3"
  },
  "language_info": {
   "codemirror_mode": {
    "name": "ipython",
    "version": 3
   },
   "file_extension": ".py",
   "mimetype": "text/x-python",
   "name": "python",
   "nbconvert_exporter": "python",
   "pygments_lexer": "ipython3",
   "version": "3.11.5"
  }
 },
 "nbformat": 4,
 "nbformat_minor": 5
}
