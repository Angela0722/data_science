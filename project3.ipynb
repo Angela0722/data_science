{
 "cells": [
  {
   "cell_type": "code",
   "execution_count": null,
   "id": "755f58fe",
   "metadata": {},
   "outputs": [],
   "source": [
    "import pymysql"
   ]
  },
  {
   "cell_type": "code",
   "execution_count": null,
   "id": "5dafb86c",
   "metadata": {},
   "outputs": [],
   "source": [
    "mydb =pymysql.connect(\n",
    "     host=\"localhost\",\n",
    "     port =3306,\n",
    "     user =\"root\",\n",
    "     password =\"1234\"\n",
    ")\n",
    "mycursor =mydb.cursor()\n"
   ]
  },
  {
   "cell_type": "code",
   "execution_count": null,
   "id": "ee26ce77",
   "metadata": {},
   "outputs": [],
   "source": [
    "mycursor.execute(\"create database Book_Publication_System\")\n",
    "mycursor.execute(\"show databases\")\n",
    "for x in mycursor:\n",
    "    print(x)"
   ]
  },
  {
   "cell_type": "code",
   "execution_count": null,
   "id": "b722c472",
   "metadata": {},
   "outputs": [],
   "source": [
    "mycursor.execute(\"use Book_Publication_System\")\n",
    "mycursor.execute(\"create table book_publishing(id int primary key not null,Book_title varchar (50) not null, Author varchar (50) not null,Publisher varchar (50) not null,City_of_Publication varchar(50)not null,Year_of_Publication int not null)\")\n",
    "mycursor.execute(\"show columns from book_publishing\")\n",
    "for x in cursor:\n",
    "    print(x)"
   ]
  },
  {
   "cell_type": "code",
   "execution_count": null,
   "id": "f023a302",
   "metadata": {},
   "outputs": [],
   "source": [
    "def add_book():\n",
    "    id=int(input(\"Enter book ID:\"))\n",
    "    Book_title=input(\"Enter the book name:\")\n",
    "    Author=input(\"Enter the name of the author:\")\n",
    "    Publisher=input(\"Enter publisher name:\")\n",
    "    City_of_Publication=input(\"Enter the city the book was published:\")\n",
    "    Year_of_Publication=input(\"Enter the year the book was published:\")\n",
    "    query= \"insert into book_publishing(id,Book_title,Author,Publisher,City_of_Publication,Year_of_Publication) values(%s,%s,%s,%s,%s,%s)\"\n",
    "    mycursor.execute(query,(id,Book_title,Author,Publisher,City_of_Publication,Year_of_Publication))\n",
    "    mydb.commit()\n",
    "    print(\"Book successfully added...\")\n",
    "    \n",
    "\n",
    "def search_book():\n",
    "    id= int(input(\"Enter book ID:\"))\n",
    "    query= 'select * from book_publishing where id = \"%s\"'\n",
    "    mycursor.execute(query,(id,))\n",
    "    result= mycursor.fetchall()\n",
    "    if len(result) == 0:\n",
    "        print('book not found')\n",
    "    else:\n",
    "        for x in result:\n",
    "            print(x)\n",
    "            \n",
    "\n",
    "def display_books():\n",
    "    mycursor.execute('select * from book_publishing')\n",
    "    for x in mycursor:\n",
    "        print(x)\n",
    "        \n",
    "        \n",
    "def archive_book():\n",
    "    id= int(input(\"Enter the book id number needed to be deleted:\"))\n",
    "    query =\"delete from book_publishing where id = %s\"\n",
    "    mycursor.execute(query,(id,))\n",
    "    mydb.commit()\n",
    "    print(\"Deleted successfully\")\n",
    "    \n",
    "def main():\n",
    "    print(\"________WELCOME TO ANGELA'S BOOKSTORE________\")\n",
    "    print(\"LIST OF OPERATION[add,search,display,archive,logout]\")\n",
    "    OPERATION = True\n",
    "    while OPERATION:\n",
    "        option = input(\"select registration:\")\n",
    "        if option == \"add\".lower():\n",
    "            add_book()\n",
    "        elif option == \"search\".lower():\n",
    "            search_book()\n",
    "        elif option == \"display\".lower():\n",
    "            display_books()\n",
    "        elif option == \"archive\".lower():\n",
    "            archive_book()\n",
    "        elif option == logout.lower():\n",
    "            OPERATION = False\n",
    "            print(\"OPERATION TERMINATED....\")\n",
    "            break\n",
    "            \n",
    "    \n",
    "    \n"
   ]
  }
 ],
 "metadata": {
  "kernelspec": {
   "display_name": "Python 3 (ipykernel)",
   "language": "python",
   "name": "python3"
  },
  "language_info": {
   "codemirror_mode": {
    "name": "ipython",
    "version": 3
   },
   "file_extension": ".py",
   "mimetype": "text/x-python",
   "name": "python",
   "nbconvert_exporter": "python",
   "pygments_lexer": "ipython3",
   "version": "3.11.5"
  }
 },
 "nbformat": 4,
 "nbformat_minor": 5
}
