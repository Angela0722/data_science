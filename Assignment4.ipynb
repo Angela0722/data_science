{
 "cells": [
  {
   "cell_type": "code",
   "execution_count": 1,
   "id": "54321001",
   "metadata": {},
   "outputs": [
    {
     "name": "stdout",
     "output_type": "stream",
     "text": [
      "What is your Math score67\n",
      "What is your physics score90\n",
      "What is your Geography score8\n",
      "What is your CRK score12\n",
      "What is your Biology score67\n",
      "What is your Agric score54\n",
      "What is your Health Education score44\n",
      "What is your Further Math score78\n",
      "_____subject SCORES____\n",
      "        \"Math score\": 67.0\n",
      "        \"Physics score\": 90.0\n",
      "        \"Geography score\": 8.0\n",
      "        \"CRK score:\" 12.0 \n",
      "        \"Biology score:\" 67.0\n",
      "        \"Agric score:\" 54.0\n",
      "        \"Health Education:\" 44.0\n",
      "        \"Further Math:\" 78.0\n",
      "        \n",
      " Your average score is 52.5\n"
     ]
    }
   ],
   "source": [
    "def average_score(subject1,subject2,subject3,subject4,subject5,subject6,subject7,subject8):\n",
    "    print(f\"\"\"_____subject SCORES____\n",
    "        \"Math score\": {subject1}\n",
    "        \"Physics score\": {subject2}\n",
    "        \"Geography score\": {subject3}\n",
    "        \"CRK score:\" {subject4} \n",
    "        \"Biology score:\" {subject5}\n",
    "        \"Agric score:\" {subject6}\n",
    "        \"Health Education:\" {subject7}\n",
    "        \"Further Math:\" {subject8}\n",
    "        \"\"\")\n",
    "    \n",
    "    import statistics as stat\n",
    "    avg=round(stat.mean([subject1,subject2,subject3,subject4,subject5,subject6,subject7,subject8]),2)\n",
    "    print(f' Your average score is {avg}')\n",
    "    \n",
    "    \n",
    "average_score(float(input(\"What is your Math score\")),\n",
    "              float(input(\"What is your physics score\")),\n",
    "              float(input(\"What is your Geography score\")),\n",
    "              float(input(\"What is your CRK score\")),\n",
    "              float(input(\"What is your Biology score\")),\n",
    "              float(input(\"What is your Agric score\")),\n",
    "              float(input(\"What is your Health Education score\")),\n",
    "              float(input(\"What is your Further Math score\"))) \n",
    "    \n",
    "    \n",
    "    "
   ]
  },
  {
   "cell_type": "code",
   "execution_count": null,
   "id": "de47bcaa",
   "metadata": {},
   "outputs": [],
   "source": []
  },
  {
   "cell_type": "code",
   "execution_count": null,
   "id": "af3f6233",
   "metadata": {},
   "outputs": [],
   "source": []
  }
 ],
 "metadata": {
  "kernelspec": {
   "display_name": "Python 3 (ipykernel)",
   "language": "python",
   "name": "python3"
  },
  "language_info": {
   "codemirror_mode": {
    "name": "ipython",
    "version": 3
   },
   "file_extension": ".py",
   "mimetype": "text/x-python",
   "name": "python",
   "nbconvert_exporter": "python",
   "pygments_lexer": "ipython3",
   "version": "3.11.5"
  }
 },
 "nbformat": 4,
 "nbformat_minor": 5
}
