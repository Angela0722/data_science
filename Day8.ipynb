{
 "cells": [
  {
   "cell_type": "code",
   "execution_count": 1,
   "id": "1d6e4ed7",
   "metadata": {},
   "outputs": [
    {
     "name": "stdout",
     "output_type": "stream",
     "text": [
      "[1, 25, 49, 81, 100]\n"
     ]
    }
   ],
   "source": [
    "## MAP\n",
    "numbers=[1,5,7,9,10]\n",
    "squred_roots=list(map(lambda x: x ** 2,numbers))\n",
    "print(squred_roots)"
   ]
  },
  {
   "cell_type": "markdown",
   "id": "34ec1b9f",
   "metadata": {},
   "source": [
    "## oop(OBJECT ORIENTED PROGRAMMING)"
   ]
  },
  {
   "cell_type": "code",
   "execution_count": 2,
   "id": "0b1fa07f",
   "metadata": {},
   "outputs": [],
   "source": [
    "class person:\n",
    "    attr11=\"sam\"\n",
    "    attr12=\"dark\"\n",
    "    attr13=\"height\"\n",
    "Human=person()"
   ]
  },
  {
   "cell_type": "code",
   "execution_count": 3,
   "id": "44f0f3e8",
   "metadata": {},
   "outputs": [
    {
     "data": {
      "text/plain": [
       "'sam'"
      ]
     },
     "execution_count": 3,
     "metadata": {},
     "output_type": "execute_result"
    }
   ],
   "source": [
    "Human.attr11"
   ]
  },
  {
   "cell_type": "code",
   "execution_count": 4,
   "id": "1fe152e0",
   "metadata": {},
   "outputs": [
    {
     "data": {
      "text/plain": [
       "'dark'"
      ]
     },
     "execution_count": 4,
     "metadata": {},
     "output_type": "execute_result"
    }
   ],
   "source": [
    "Human.attr12"
   ]
  },
  {
   "cell_type": "code",
   "execution_count": 5,
   "id": "04c6d011",
   "metadata": {},
   "outputs": [
    {
     "data": {
      "text/plain": [
       "'height'"
      ]
     },
     "execution_count": 5,
     "metadata": {},
     "output_type": "execute_result"
    }
   ],
   "source": [
    "Human.attr13"
   ]
  },
  {
   "cell_type": "markdown",
   "id": "bdf6a060",
   "metadata": {},
   "source": [
    "## ADDING FUNCTIONS TO CLASSIFICATIONS"
   ]
  },
  {
   "cell_type": "code",
   "execution_count": 12,
   "id": "ecd313c6",
   "metadata": {},
   "outputs": [],
   "source": [
    "class person:\n",
    "    attr14=\"Uche\"\n",
    "    attr15=\"height\"\n",
    "    attr16=29\n",
    "    attr17=\"singing\"\n",
    "    attr18=\"smiling\"\n",
    "    def __init__(self):\n",
    "        self.attr14\n",
    "    def details(self):\n",
    "        print(f''' name:{self.attr14}\n",
    "        hobby:{self.attr18}''')\n",
    "    def action(self):\n",
    "        print(f' my name is {self.attr14} and i am {self.attr16}')\n",
    "personality=person()\n"
   ]
  },
  {
   "cell_type": "code",
   "execution_count": 7,
   "id": "1e418b3e",
   "metadata": {},
   "outputs": [
    {
     "data": {
      "text/plain": [
       "'singing'"
      ]
     },
     "execution_count": 7,
     "metadata": {},
     "output_type": "execute_result"
    }
   ],
   "source": [
    "personality.attr17"
   ]
  },
  {
   "cell_type": "code",
   "execution_count": 13,
   "id": "f6c1780b",
   "metadata": {},
   "outputs": [
    {
     "name": "stdout",
     "output_type": "stream",
     "text": [
      " name:Uche\n",
      "        hobby:smiling\n"
     ]
    }
   ],
   "source": [
    "personality.details()"
   ]
  },
  {
   "cell_type": "code",
   "execution_count": 2,
   "id": "c4b94ba0",
   "metadata": {},
   "outputs": [],
   "source": [
    "class monieapp:\n",
    "    def __init__(self):\n",
    "        self.balance=0\n",
    "    def deposit(self):\n",
    "        amount=float(input(\"Enter deposit amount:\"))\n",
    "        self.balance += amount\n",
    "        print(\"Transaction successfully...\")\n",
    "    def transfer(self):\n",
    "        amount=float(input(\"Enter transfer amount:\"))\n",
    "        bankname=input(\"Enter bank name:\")\n",
    "        account_number=input(\"Enter Receiver account number:\")\n",
    "        if amount > self.balance or amount ==0:\n",
    "            print(\"Cannot complete transaction due to zero or insufficient funds\")\n",
    "        else:\n",
    "            self.balance -= amount\n",
    "            print(\"Transaction successfully completed!!!\")\n",
    "            \n",
    "    def airtime(self):\n",
    "        amount=float(input(\"Enter airtime amount:\"))\n",
    "        network_provider=input(\"Enter network name:\")\n",
    "        phone_number=input(\"Enter phone_number:\")\n",
    "        if amount > self.balance or amount ==0:\n",
    "            print(\"Cannot complete transaction due to zero or insufficient funds\")\n",
    "        else:\n",
    "            self.balance -= amount\n",
    "            print(\"AIRTIME TRANSFER SUCCESSFULLY COMPLETED!!\")\n",
    "            \n",
    "    def data(self):\n",
    "        amount=float(input(\"Enter data amount:\"))\n",
    "        network_provider=input(\"Enter network name:\")\n",
    "        phone_number=input(\"Enter phone number:\")\n",
    "        if amount > self.balance or amount ==0:\n",
    "            print(\"Cannot complete transaction due to zero or insufficient funds\")\n",
    "        else:\n",
    "            self.balance -= amount\n",
    "            print(\"DATA TRANSFER SUCCESSFULLY COMPLETED\")\n",
    "            \n",
    "    def checkbalance(self):\n",
    "        print(f\" Your available balance is {self.balance}\")\n",
    "Bankapp=monieapp()\n",
    "            \n",
    "    \n",
    "        \n",
    "        "
   ]
  },
  {
   "cell_type": "code",
   "execution_count": 3,
   "id": "521d1f14",
   "metadata": {},
   "outputs": [
    {
     "name": "stdout",
     "output_type": "stream",
     "text": [
      " Your available balance is 0\n"
     ]
    }
   ],
   "source": [
    "Bankapp.checkbalance()\n"
   ]
  },
  {
   "cell_type": "code",
   "execution_count": 4,
   "id": "fa6648f3",
   "metadata": {},
   "outputs": [
    {
     "name": "stdout",
     "output_type": "stream",
     "text": [
      "Enter transfer amount:50000\n",
      "Enter bank name:ACCESS Bank\n",
      "Enter Receiver account number:675432970\n",
      "Cannot complete transaction due to zero or insufficient funds\n"
     ]
    }
   ],
   "source": [
    "Bankapp.transfer()"
   ]
  },
  {
   "cell_type": "code",
   "execution_count": 5,
   "id": "73968e77",
   "metadata": {},
   "outputs": [
    {
     "name": "stdout",
     "output_type": "stream",
     "text": [
      "Enter deposit amount:60000\n",
      "Transaction successfully...\n"
     ]
    }
   ],
   "source": [
    "Bankapp.deposit()"
   ]
  },
  {
   "cell_type": "code",
   "execution_count": 6,
   "id": "d3018d25",
   "metadata": {},
   "outputs": [
    {
     "name": "stdout",
     "output_type": "stream",
     "text": [
      "Enter transfer amount:5000\n",
      "Enter bank name:FIRST Bank\n",
      "Enter Receiver account number:3076655434\n",
      "Transaction successfully completed!!!\n"
     ]
    }
   ],
   "source": [
    "Bankapp.transfer()"
   ]
  },
  {
   "cell_type": "code",
   "execution_count": 7,
   "id": "e29b3c32",
   "metadata": {},
   "outputs": [
    {
     "name": "stdout",
     "output_type": "stream",
     "text": [
      " Your available balance is 55000.0\n"
     ]
    }
   ],
   "source": [
    "Bankapp.checkbalance()"
   ]
  },
  {
   "cell_type": "code",
   "execution_count": null,
   "id": "7ebe5644",
   "metadata": {},
   "outputs": [],
   "source": []
  }
 ],
 "metadata": {
  "kernelspec": {
   "display_name": "Python 3 (ipykernel)",
   "language": "python",
   "name": "python3"
  },
  "language_info": {
   "codemirror_mode": {
    "name": "ipython",
    "version": 3
   },
   "file_extension": ".py",
   "mimetype": "text/x-python",
   "name": "python",
   "nbconvert_exporter": "python",
   "pygments_lexer": "ipython3",
   "version": "3.11.5"
  }
 },
 "nbformat": 4,
 "nbformat_minor": 5
}
