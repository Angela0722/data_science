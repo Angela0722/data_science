{
 "cells": [
  {
   "cell_type": "code",
   "execution_count": null,
   "id": "433a2a16",
   "metadata": {},
   "outputs": [],
   "source": [
    "import pymysql"
   ]
  },
  {
   "cell_type": "code",
   "execution_count": null,
   "id": "e47102eb",
   "metadata": {},
   "outputs": [],
   "source": [
    "mydb =pymysql.connect(\n",
    "    host=\"localhost\",\n",
    "    port =3306, \n",
    "    user = \"root\",\n",
    "    password=\"1234\"\n",
    ")\n",
    "mycursor= mydb.cursor()"
   ]
  },
  {
   "cell_type": "code",
   "execution_count": null,
   "id": "452b5063",
   "metadata": {},
   "outputs": [],
   "source": [
    "mycursor.execute(\"create database jamb_registration\")\n",
    "mycursor.execute(\"show database\")\n",
    "for x in mycursor:\n",
    "    print(x)"
   ]
  },
  {
   "cell_type": "code",
   "execution_count": null,
   "id": "648846c6",
   "metadata": {},
   "outputs": [],
   "source": [
    "mycursor.execute(\"use jamb_registration\")\n",
    "mycursor.execute(\"create tables candidates(id int primary key not null,nin int not null, first_name varchar(50) not null,middle_name varchar(50) not null,last_name varchar (50) not null,age int not null, gender varchar(15) not null,dob datetime not null,address varchar (50) not null,email_address varchar(255) not null,contact_number int not null,state_of_origin varchar(25) not null,religion varchar (25) not null)\")\n",
    "for x in mycursor:\n",
    "    print(x)"
   ]
  },
  {
   "cell_type": "code",
   "execution_count": null,
   "id": "7ff82187",
   "metadata": {},
   "outputs": [],
   "source": [
    "def accept_record():\n",
    "    id=int(input(\"Enter candidate ID:\"))\n",
    "    nin=int(input(\"Enter candidate 11 digit nin number:\"))\n",
    "    first_name=input(\"Enter your first name:\")\n",
    "    middle_name=input(\"Enter your middle name:\")\n",
    "    last_name=input(\"Enter your last name:\")\n",
    "    age=int(input(\"Enter your age:\")\n",
    "    dob=input(\"Enter candidate date of birth (YYYY-MM-DD):\")\n",
    "    gender=input(\"Enter candidate gender:\")\n",
    "    address= input(\"Enter candidate address:\")\n",
    "    email_address= input(\"Enter candidate email:\")\n",
    "    contact_number= int(input(\"Enter candidate number:\"))\n",
    "    state_of_origin= input(\"Enter candidate state:\")\n",
    "    religion= input(\"Enter candidate religion:\")\n",
    "    query= \"insert into candidate (id,nin,first_name,middle_name,last_name,age,dob,gender,address,email_address,contact_number,state_of_origin,religion) values (%s,%s,%s,%s,%s,%s,%s,%s,%s,%s)\n",
    "    mycursor.execute(query,(id,nin,first_name,middle_name,last_name,age,dob,gender,address,email_address,contact_number,state_of_origin,religion))\n",
    "    mydb.commit()\n",
    "    print(\"Record inserted successfully....\")\n",
    "    \n",
    "    \n",
    "    \n",
    "def display_records():\n",
    "    mycursor.execute(\"select * candidates\")\n",
    "    for x in mycursor:\n",
    "        (x)\n",
    "        \n",
    "\n",
    "def update_record():\n",
    "    id= int(input(\"Enter candidates ID number:\"))\n",
    "    column_name= input(\"Enter the column name:\")\n",
    "    new_value =input(\"Enter the new value:\")\n",
    "    query = f\"update candidates set{column_name} =%s where id =%s\"\n",
    "    mycursor.execute(query,(new_value,id))\n",
    "    mydb.commit\n",
    "    \n",
    "def delete_record():\n",
    "    id= int(input(\"Enter the ID number needed to be deleted...\"))\n",
    "    query= \"delete from student where id =%s\"\n",
    "    mycursor.execute(query,(id,))\n",
    "    mydb.commit()\n",
    "    \n",
    "def main():\n",
    "    print(\"________WELCOME TO JAMB PORTAL________\")\n",
    "    print(\"REGISTRATION LIST[accept,display,update_record,delete,logout]\")\n",
    "    REGISTRATION = True\n",
    "    while REGISTRATION:\n",
    "        option = input(\"select registration:\")\n",
    "        if option == \"accept\".lower():\n",
    "            accept_record()\n",
    "        elif option == \"display\".lower():\n",
    "            display_record()\n",
    "        elif option == \"update_record\".lower():\n",
    "            update_record()\n",
    "        elif option == \"delete\".lower():\n",
    "            delete_record()\n",
    "        elif option == logout.lower():\n",
    "            OPERATION = False\n",
    "            print(\"OPERATION TERMINATED....\")\n",
    "            break\n",
    "            \n",
    "        \n",
    "    \n"
   ]
  },
  {
   "cell_type": "code",
   "execution_count": null,
   "id": "86cc5bd6",
   "metadata": {},
   "outputs": [],
   "source": []
  }
 ],
 "metadata": {
  "kernelspec": {
   "display_name": "Python 3 (ipykernel)",
   "language": "python",
   "name": "python3"
  },
  "language_info": {
   "codemirror_mode": {
    "name": "ipython",
    "version": 3
   },
   "file_extension": ".py",
   "mimetype": "text/x-python",
   "name": "python",
   "nbconvert_exporter": "python",
   "pygments_lexer": "ipython3",
   "version": "3.11.5"
  }
 },
 "nbformat": 4,
 "nbformat_minor": 5
}
