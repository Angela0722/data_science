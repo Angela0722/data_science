{
 "cells": [
  {
   "cell_type": "markdown",
   "id": "0e1d3b10",
   "metadata": {},
   "source": [
    "## Range"
   ]
  },
  {
   "cell_type": "code",
   "execution_count": 1,
   "id": "58536e0b",
   "metadata": {},
   "outputs": [
    {
     "name": "stdout",
     "output_type": "stream",
     "text": [
      "1\n",
      "2\n",
      "3\n",
      "4\n",
      "5\n",
      "6\n",
      "7\n",
      "8\n",
      "9\n",
      "10\n",
      "11\n",
      "12\n",
      "13\n",
      "14\n",
      "15\n",
      "16\n",
      "17\n",
      "18\n",
      "19\n",
      "20\n",
      "21\n",
      "22\n",
      "23\n",
      "24\n",
      "25\n",
      "26\n",
      "27\n",
      "28\n",
      "29\n",
      "30\n",
      "31\n",
      "32\n",
      "33\n",
      "34\n",
      "35\n",
      "36\n",
      "37\n",
      "38\n",
      "39\n"
     ]
    }
   ],
   "source": [
    "## Range implifies by beginning a particular number to a determined number.\n",
    "for h in range(1,40):\n",
    "    print(h)"
   ]
  },
  {
   "cell_type": "code",
   "execution_count": 4,
   "id": "d7d641d9",
   "metadata": {},
   "outputs": [
    {
     "name": "stdout",
     "output_type": "stream",
     "text": [
      "PLAYER ONE WINS\n",
      " PLAYER ONE SCORE IS : 7\n",
      "PLAYER TWO SCORE IS:6\n",
      "PLAYER TWO WINS\n",
      "PLAYER ONE SCORE IS : 6\n",
      "PLAYER TWO SCORE IS :10\n",
      "PLAYER ONE WINS\n",
      " PLAYER ONE SCORE IS : 6\n",
      "PLAYER TWO SCORE IS:4\n",
      "PLAYER TWO WINS\n",
      "PLAYER ONE SCORE IS : 4\n",
      "PLAYER TWO SCORE IS :9\n",
      "PLAYER ONE WINS\n",
      " PLAYER ONE SCORE IS : 11\n",
      "PLAYER TWO SCORE IS:10\n",
      "PLAYER TWO WINS\n",
      "PLAYER ONE SCORE IS : 5\n",
      "PLAYER TWO SCORE IS :6\n",
      "DRAWS\n",
      "PLAYER ONE SCORE IS : 11\n",
      "PLAYER TWO SCORE IS : 11\n",
      "PLAYER TWO WINS\n",
      "PLAYER ONE SCORE IS : 7\n",
      "PLAYER TWO SCORE IS :8\n",
      "PLAYER TWO WINS\n",
      "PLAYER ONE SCORE IS : 5\n",
      "PLAYER TWO SCORE IS :9\n",
      "PLAYER ONE WINS\n",
      " PLAYER ONE SCORE IS : 5\n",
      "PLAYER TWO SCORE IS:4\n",
      "PLAYER TWO IS THE OVERALL WINNER BY 26 POINT\n"
     ]
    }
   ],
   "source": [
    "score1=0\n",
    "score2=0\n",
    "import random\n",
    "for q in range(1,11):\n",
    "    dice1=(random.randint(1,6) + random.randint(1,6))\n",
    "    dice2=(random.randint(1,6) + random.randint(1,6))\n",
    "    \n",
    "    if dice1 > dice2:\n",
    "        score1 +=5\n",
    "        print(\"PLAYER ONE WINS\")\n",
    "        print(f\" PLAYER ONE SCORE IS : {dice1}\")\n",
    "        print(f\"PLAYER TWO SCORE IS:{dice2}\")\n",
    "    elif dice2 > dice1:\n",
    "        score2 += 5\n",
    "        print(\"PLAYER TWO WINS\")\n",
    "        print(f\"PLAYER ONE SCORE IS : {dice1}\")\n",
    "        print(f\"PLAYER TWO SCORE IS :{dice2}\")\n",
    "    elif dice1 == dice2:\n",
    "        score1 += 1\n",
    "        score2 += 1\n",
    "        print(\"DRAWS\")\n",
    "        print(f\"PLAYER ONE SCORE IS : {dice1}\")\n",
    "        print(f\"PLAYER TWO SCORE IS : {dice2}\")\n",
    "if score1 > score2:\n",
    "    print(f\"PLAYER ONE IS THE OVERALL WINNER BY {score1} POINT\")\n",
    "elif score2 > score1:\n",
    "    print(f\"PLAYER TWO IS THE OVERALL WINNER BY {score2} POINT\")\n",
    "elif score2 == score1:\n",
    "    print(f\" Draw Player one score is :{score1}, Player Two Score is {score2} point\")\n",
    "        \n",
    "\n",
    "\n"
   ]
  },
  {
   "cell_type": "markdown",
   "id": "7f6497cd",
   "metadata": {},
   "source": [
    "## FUNCTIONS"
   ]
  },
  {
   "cell_type": "code",
   "execution_count": 5,
   "id": "05358254",
   "metadata": {},
   "outputs": [
    {
     "name": "stdout",
     "output_type": "stream",
     "text": [
      "Welcome to Early Code\n"
     ]
    }
   ],
   "source": [
    "def hello():\n",
    "    print(\"Welcome to Early Code\")\n",
    "hello()"
   ]
  },
  {
   "cell_type": "code",
   "execution_count": 6,
   "id": "8182ab37",
   "metadata": {},
   "outputs": [
    {
     "name": "stdout",
     "output_type": "stream",
     "text": [
      "Welcome to python class Yuucee\n"
     ]
    }
   ],
   "source": [
    "def hi(name):\n",
    "    print(f'Welcome to python class {name}')\n",
    "hi(\"Yuucee\")"
   ]
  },
  {
   "cell_type": "code",
   "execution_count": 9,
   "id": "9d53df24",
   "metadata": {},
   "outputs": [
    {
     "name": "stdout",
     "output_type": "stream",
     "text": [
      "_____CITIZEN DETAILS_____\n",
      "    \"Name\":John\n",
      "    \"Age\":16\n",
      "    \"Gender\":male\n",
      "   \n",
      "You are eligible to vote for only primary section\n"
     ]
    }
   ],
   "source": [
    "def vote(name,age,gender):\n",
    "    print(f\"\"\"_____CITIZEN DETAILS_____\n",
    "    \"Name\":{name}\n",
    "    \"Age\":{age}\n",
    "    \"Gender\":{gender}\n",
    "   \"\"\")\n",
    "    if age > 18:\n",
    "        print(\"YOU ARE ElIGIBLE TO VOTE\")\n",
    "    elif age >= 16:\n",
    "        print(\"You are eligible to vote for only primary section\")\n",
    "    else:\n",
    "        print(\"You are not eligible to vote....\")\n",
    "vote(\"John\",16,\"male\")\n",
    "        \n",
    "    \n",
    "        \n",
    "    "
   ]
  },
  {
   "cell_type": "code",
   "execution_count": 11,
   "id": "c6871b24",
   "metadata": {},
   "outputs": [
    {
     "name": "stdout",
     "output_type": "stream",
     "text": [
      "_____CITIZEN DETAILS_____\n",
      "    \"Name\":John\n",
      "    \"Age\":19\n",
      "    \"Gender\":male\n",
      "   \n",
      "YOU ARE ElIGIBLE TO VOTE\n"
     ]
    }
   ],
   "source": [
    "def vote(name,gender,age=18):## default parameter set the age in a static mode\n",
    "    print(f\"\"\"_____CITIZEN DETAILS_____\n",
    "    \"Name\":{name}\n",
    "    \"Age\":{age}\n",
    "    \"Gender\":{gender}\n",
    "   \"\"\")\n",
    "    if age > 18:\n",
    "        print(\"YOU ARE ElIGIBLE TO VOTE\")\n",
    "    elif age >= 16:\n",
    "        print(\"You are eligible to vote for only primary section\")\n",
    "    else:\n",
    "        print(\"You are not eligible to vote\n",
    "vote(\"John\",\"male\",19)\n",
    "        "
   ]
  },
  {
   "cell_type": "code",
   "execution_count": 15,
   "id": "679670f5",
   "metadata": {},
   "outputs": [
    {
     "name": "stdout",
     "output_type": "stream",
     "text": [
      "_____CITIZEN DETAILS_____\n",
      "    \"Name\":John\n",
      "    \"Age\":19\n",
      "    \"Gender\":male\n",
      "   \n",
      "You are not eligible to vote\n"
     ]
    }
   ],
   "source": [
    "def vote(name,gender=\"Female\",age=18):## default parameter set the age in a static mode\n",
    "    print(f\"\"\"_____CITIZEN DETAILS_____\n",
    "    \"Name\":{name}\n",
    "    \"Age\":{age}\n",
    "    \"Gender\":{gender}\n",
    "   \"\"\")\n",
    "    if age >= 18 and gender == \"female\":\n",
    "        print(\"You are eligible to vote\")\n",
    "    else:\n",
    "        print(\"You are not eligible to vote\")\n",
    "vote(\"John\",\"male\",19)"
   ]
  },
  {
   "cell_type": "code",
   "execution_count": 17,
   "id": "14d5640c",
   "metadata": {},
   "outputs": [
    {
     "name": "stdout",
     "output_type": "stream",
     "text": [
      "____BOOKING INQUIRY___\n",
      "    \"Event\": Wedding\n",
      "    \"Date\": May 15,2024\n",
      "    \"Venue\": Major\n",
      "    \n",
      "Unfortunately , Major is not available for your event!!\n"
     ]
    }
   ],
   "source": [
    "def booking(event,date,venue=\"Main Hall\"):\n",
    "    print(f\"\"\"____BOOKING INQUIRY___\n",
    "    \"Event\": {event}\n",
    "    \"Date\": {date}\n",
    "    \"Venue\": {venue}\n",
    "    \"\"\")\n",
    "    if venue == \"Main Hall\":\n",
    "        print(\"The main hall is available for your event!\")\n",
    "    else:\n",
    "        print(f\"Unfortunately , {venue} is not available for your event!!\")\n",
    "booking(\"Wedding\",\"May 15,2024\",\"Major\")"
   ]
  },
  {
   "cell_type": "code",
   "execution_count": null,
   "id": "f8dc72dc",
   "metadata": {},
   "outputs": [],
   "source": []
  }
 ],
 "metadata": {
  "kernelspec": {
   "display_name": "Python 3 (ipykernel)",
   "language": "python",
   "name": "python3"
  },
  "language_info": {
   "codemirror_mode": {
    "name": "ipython",
    "version": 3
   },
   "file_extension": ".py",
   "mimetype": "text/x-python",
   "name": "python",
   "nbconvert_exporter": "python",
   "pygments_lexer": "ipython3",
   "version": "3.11.5"
  }
 },
 "nbformat": 4,
 "nbformat_minor": 5
}
