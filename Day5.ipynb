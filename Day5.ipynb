{
 "cells": [
  {
   "cell_type": "code",
   "execution_count": 3,
   "id": "6921fd68",
   "metadata": {},
   "outputs": [
    {
     "name": "stdout",
     "output_type": "stream",
     "text": [
      "Physics score75\n",
      "Biology score80\n",
      "History score67\n",
      "Accounting score45\n",
      "Economics score30\n",
      "English score60\n",
      "Your avg score is 59.5 and score point is C\n"
     ]
    }
   ],
   "source": [
    "## PROGRAM SOFTWARE THAT USES STUDENT SUBJECTS TO LOOK FOR THE AVERAGE OF THE SCORE AND GIVE A SCORE POINT\n",
    "grade1=float(input(\"Physics score\"))\n",
    "grade2=float(input(\"Biology score\"))\n",
    "grade3=float(input(\"History score\"))\n",
    "grade4=float(input(\"Accounting score\"))\n",
    "grade5=float(input(\"Economics score\"))\n",
    "grade6=float(input(\"English score\"))\n",
    "import statistics as stat\n",
    "avg=round(stat.mean([grade1,grade2,grade3,grade4,grade5,grade6]),2)\n",
    "if avg >= 70 and avg <=100:\n",
    "    print(f'Your avg score is {avg} and score point is A')\n",
    "elif avg >= 60 and avg <=69.99:\n",
    "    print(f'Your avg score is {avg} and score point is B')\n",
    "elif avg >= 50 and avg <=59.99:\n",
    "    print(f'Your avg score is {avg} and score point is C')\n",
    "elif avg >= 40 and avg <=49.99:\n",
    "    print(f'Your avg score is {avg} and score point is D')\n",
    "else:\n",
    "    print(\"sorry you failed badly\")\n",
    "\n"
   ]
  },
  {
   "cell_type": "markdown",
   "id": "c157ce24",
   "metadata": {},
   "source": [
    "## LOOPS"
   ]
  },
  {
   "cell_type": "code",
   "execution_count": 4,
   "id": "8fcca0f6",
   "metadata": {},
   "outputs": [
    {
     "name": "stdout",
     "output_type": "stream",
     "text": [
      "p\n",
      "y\n",
      "t\n",
      "h\n",
      "o\n",
      "n\n",
      "python\n"
     ]
    }
   ],
   "source": [
    "## LOOPS IS THE ACT OF A PROGRAMMER TO REPEAT A PROGRAM OVER AGAIN USING THE LOOP FUNCTION.\n",
    "## For loops: This must have a particular element or variable to loop over in which name stand for itself(FOR)\n",
    "word=\"python\"\n",
    "for h in word:\n",
    "    print(h)\n",
    "print(word)"
   ]
  },
  {
   "cell_type": "code",
   "execution_count": 5,
   "id": "d0342d21",
   "metadata": {},
   "outputs": [
    {
     "name": "stdout",
     "output_type": "stream",
     "text": [
      "pppp\n",
      "yyyy\n",
      "tttt\n",
      "hhhh\n",
      "oooo\n",
      "nnnn\n"
     ]
    }
   ],
   "source": [
    "word=\"python\"\n",
    "for h in word:\n",
    "    print(h * 4)"
   ]
  },
  {
   "cell_type": "code",
   "execution_count": 6,
   "id": "d2c46772",
   "metadata": {},
   "outputs": [
    {
     "name": "stdout",
     "output_type": "stream",
     "text": [
      "Enter the character name:o\n",
      "Character Found\n"
     ]
    }
   ],
   "source": [
    "## for loop(using conditional statement)\n",
    "word=\"python\"\n",
    "user=input(\"Enter the character name:\")\n",
    "for o in word:\n",
    "    if user == o:\n",
    "        print(\"Character Found\")\n",
    "        break\n",
    "else:\n",
    "    print(\"Character not Found\")"
   ]
  },
  {
   "cell_type": "markdown",
   "id": "3771cba5",
   "metadata": {},
   "source": [
    "## While loops"
   ]
  },
  {
   "cell_type": "code",
   "execution_count": 8,
   "id": "1900ec34",
   "metadata": {},
   "outputs": [
    {
     "name": "stdout",
     "output_type": "stream",
     "text": [
      "What is the square number :9\n",
      "The square root of 9 is 3.0\n",
      "enter your name:16\n",
      "The square root of 16 is 4.0\n",
      "enter your name:24\n",
      "The square root of 24 is 4.898979485566356\n",
      "enter your name:42\n",
      "The square root of 42 is 6.48074069840786\n",
      "enter your name:0\n"
     ]
    }
   ],
   "source": [
    "counter=0\n",
    "num=int(input(\"What is the square number :\"))\n",
    "import math\n",
    "while num !=0:\n",
    "    print(f'The square root of {num} is {math.sqrt(num)}')\n",
    "    num=int(input(\"enter your name:\"))\n",
    "    counter += 1\n"
   ]
  },
  {
   "cell_type": "code",
   "execution_count": 10,
   "id": "41bb619e",
   "metadata": {},
   "outputs": [
    {
     "name": "stdout",
     "output_type": "stream",
     "text": [
      "What is the number:3\n",
      " 3 * 4 = 12\n",
      " 3 * 5 = 15\n",
      " 3 * 6 = 18\n",
      " 3 * 7 = 21\n",
      " 3 * 8 = 24\n",
      " 3 * 9 = 27\n",
      " 3 * 10 = 30\n",
      " 3 * 11 = 33\n",
      " 3 * 12 = 36\n"
     ]
    }
   ],
   "source": [
    "counter=4\n",
    "num=int(input(\"What is the number:\"))\n",
    "while counter <= 12:\n",
    "    print(f' {num} * {counter} = {num * counter}')\n",
    "    counter += 1"
   ]
  },
  {
   "cell_type": "code",
   "execution_count": 11,
   "id": "260b1f58",
   "metadata": {},
   "outputs": [
    {
     "name": "stdout",
     "output_type": "stream",
     "text": [
      "10\n",
      "9\n",
      "8\n",
      "7\n",
      "6\n",
      "5\n",
      "4\n",
      "3\n",
      "2\n",
      "1\n",
      "HAPPY BIRTHDAY!!!!\n"
     ]
    }
   ],
   "source": [
    "counter=10\n",
    "while counter > 0:\n",
    "    print(counter)\n",
    "    counter -= 1\n",
    "print(\"HAPPY BIRTHDAY!!!!\")"
   ]
  },
  {
   "cell_type": "code",
   "execution_count": 12,
   "id": "fd73de43",
   "metadata": {},
   "outputs": [
    {
     "name": "stdout",
     "output_type": "stream",
     "text": [
      "Enter your password:correct_password456\n",
      "Password Correct.processing....\n"
     ]
    }
   ],
   "source": [
    "correct_password= \"correct_password456\"\n",
    "password= input(\"Enter your password:\")\n",
    "if password == correct_password:\n",
    "    print(\"Password Correct.processing....\")\n",
    "else:\n",
    "    print(\"Incorrect password. Access Denied\")"
   ]
  },
  {
   "cell_type": "code",
   "execution_count": null,
   "id": "954f5ba3",
   "metadata": {},
   "outputs": [],
   "source": []
  }
 ],
 "metadata": {
  "kernelspec": {
   "display_name": "Python 3 (ipykernel)",
   "language": "python",
   "name": "python3"
  },
  "language_info": {
   "codemirror_mode": {
    "name": "ipython",
    "version": 3
   },
   "file_extension": ".py",
   "mimetype": "text/x-python",
   "name": "python",
   "nbconvert_exporter": "python",
   "pygments_lexer": "ipython3",
   "version": "3.11.5"
  }
 },
 "nbformat": 4,
 "nbformat_minor": 5
}
