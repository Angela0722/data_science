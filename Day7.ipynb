{
 "cells": [
  {
   "cell_type": "code",
   "execution_count": null,
   "id": "68cf040a",
   "metadata": {},
   "outputs": [],
   "source": [
    "## Exercise \n",
    "## using function to write a program to calculate the total cost of a customer purchase \n",
    "## including discount and sales tax?\n",
    "## if the customer purchase is above 5000 and give discount\n",
    "## south south 15%\n",
    "## south east 10%\n",
    "## south west 8%\n",
    "## north east 12%\n",
    "## north west 11%\n",
    "## north central 6%\n",
    "\n",
    "\n",
    "    "
   ]
  },
  {
   "cell_type": "code",
   "execution_count": 7,
   "id": "5643b394",
   "metadata": {},
   "outputs": [
    {
     "name": "stdout",
     "output_type": "stream",
     "text": [
      "Enter customer purchase50000\n",
      "Enter your customer regionsouth east\n",
      "____customer Receipt____\n",
      "        \"PURCHASE AMOUNT\": 50000.0\n",
      "        \"discount\": 5000.0\n",
      "        \"tax\": 1750.0000000000002\n",
      "        \"Total amount including vat minus discount\": 46750.0\n",
      "        \n"
     ]
    }
   ],
   "source": [
    "def sales():\n",
    "    purchaseamount=float(input(\"Enter customer purchase\"))\n",
    "    region=(input(\"Enter your customer region\"))\n",
    "    if purchaseamount >= 50000 and region == \"south south\":\n",
    "        print(f\"\"\"____customer Receipt____\n",
    "        \"PURCHASE AMOUNT\": {purchaseamount}\n",
    "        \"discount\": {purchaseamount * 0.15}\n",
    "        \"tax\": {purchaseamount * 0.035}\n",
    "        \"Total amount including vat minus discount\": {purchaseamount + (purchaseamount * 0.035) -(purchaseamount * 0.15)}\n",
    "        \"\"\")\n",
    "        \n",
    "    elif purchaseamount >= 50000 and region == \"south east\":\n",
    "        print(f\"\"\"____customer Receipt____\n",
    "        \"PURCHASE AMOUNT\": {purchaseamount}\n",
    "        \"discount\": {purchaseamount * 0.10}\n",
    "        \"tax\": {purchaseamount * 0.035}\n",
    "        \"Total amount including vat minus discount\": {purchaseamount + (purchaseamount * 0.035) -(purchaseamount * 0.10)}\n",
    "        \"\"\")\n",
    "        \n",
    "    elif purchaseamount >= 50000 and region == \"south west\":\n",
    "        print(f\"\"\"____customer Receipt____\n",
    "        \"PURCHASE AMOUNT\": {purchaseamount}\n",
    "        \"discount\": {purchaseamount * 0.8}\n",
    "        \"tax\": {purchaseamount * 0.035}\n",
    "        \"Total amount including vat minus discount\": {purchaseamount + (purchaseamount * 0.035) -(purchaseamount * 0.8)}\n",
    "        \"\"\")\n",
    "    \n",
    "    elif purchaseamount >= 50000 and region == \"north east\":\n",
    "          print(f\"\"\"____customer Receipt____\n",
    "          \"PURCHASE AMOUNT\": {purchaseamount}\n",
    "          \"discount\": {purchaseamount * 0.12}\n",
    "          \"tax\": {purchaseamount * 0.035}\n",
    "          \"Total amount including vat minus discount\": {purchaseamount + (purchaseamount * 0.035) -(purchaseamount * 0.12)}\n",
    "          \"\"\")\n",
    "        \n",
    "    elif purchaseamount >= 50000 and region == \"north west\":\n",
    "          print(f\"\"\"____customer Receipt____\n",
    "          \"PURCHASE AMOUNT\": {purchaseamount}\n",
    "          \"discount\": {purchaseamount * 0.11}\n",
    "          \"tax\": {purchaseamount * 0.035}\n",
    "          \"Total amount including vat minus discount\": {purchaseamount + (purchaseamount * 0.035) -(purchaseamount * 0.11)}\n",
    "          \"\"\")\n",
    "    \n",
    "    elif purchaseamount >= 50000 and region == \"north central\":\n",
    "          print(f\"\"\"____customer Receipt____\n",
    "          \"PURCHASE AMOUNT\": {purchaseamount}\n",
    "          \"discount\": {purchaseamount * 0.06}\n",
    "          \"tax\": {purchaseamount * 0.035}\n",
    "          \"Total amount including vat minus discount\": {purchaseamount + (purchaseamount * 0.035) -(purchaseamount * 0.06)}\n",
    "          \"\"\")\n",
    "        \n",
    "    else:\n",
    "         print(f\"\"\"____ customer Receipt____\n",
    "         \"PURCHASE AMOUNT\": {purchaseamount}\n",
    "         \"tax\": {purchaseamount * 0.035}\n",
    "         \"Total amount including vat minus discount\":{purchaseamount + (purchaseamount * 0.035)}\n",
    "         \"sorry you are not eligible for a DISCOUNT!!!\"\n",
    "         \"\"\")\n",
    "sales()\n",
    "\n",
    "        "
   ]
  },
  {
   "cell_type": "markdown",
   "id": "53ded912",
   "metadata": {},
   "source": [
    "## Lambda"
   ]
  },
  {
   "cell_type": "code",
   "execution_count": 8,
   "id": "42a0ace1",
   "metadata": {},
   "outputs": [
    {
     "data": {
      "text/plain": [
       "12"
      ]
     },
     "execution_count": 8,
     "metadata": {},
     "output_type": "execute_result"
    }
   ],
   "source": [
    "def add(x,y):\n",
    "    return x + y\n",
    "add(4,8)"
   ]
  },
  {
   "cell_type": "code",
   "execution_count": 9,
   "id": "a742309d",
   "metadata": {},
   "outputs": [
    {
     "data": {
      "text/plain": [
       "7"
      ]
     },
     "execution_count": 9,
     "metadata": {},
     "output_type": "execute_result"
    }
   ],
   "source": [
    "(lambda x,y: x + y)(4,3)"
   ]
  },
  {
   "cell_type": "code",
   "execution_count": 10,
   "id": "1ba182d8",
   "metadata": {},
   "outputs": [
    {
     "data": {
      "text/plain": [
       "42"
      ]
     },
     "execution_count": 10,
     "metadata": {},
     "output_type": "execute_result"
    }
   ],
   "source": [
    "(lambda x,y,z: x +y*z)(2,5,8)"
   ]
  },
  {
   "cell_type": "code",
   "execution_count": 12,
   "id": "d30a2c4b",
   "metadata": {},
   "outputs": [
    {
     "name": "stdout",
     "output_type": "stream",
     "text": [
      "Enter your new password:Earycode\n"
     ]
    },
    {
     "data": {
      "text/plain": [
       "'Earycode is correct'"
      ]
     },
     "execution_count": 12,
     "metadata": {},
     "output_type": "execute_result"
    }
   ],
   "source": [
    "## write a lambda function giving a user prompt to start with a upper case and len of 8 password.\n",
    "(lambda password: f\"{password} is correct\" if password[0]==password[0].upper() and len(password) >= 8 else \" Incorrect password requirement\")(input(\"Enter your new password:\"))"
   ]
  },
  {
   "cell_type": "code",
   "execution_count": 1,
   "id": "1578529a",
   "metadata": {},
   "outputs": [
    {
     "name": "stdout",
     "output_type": "stream",
     "text": [
      "[8, 10]\n"
     ]
    }
   ],
   "source": [
    "## filter function\n",
    "num2= [1,8,9,7,10]\n",
    "nlist=list(filter(lambda x:x % 2 == 0,num2))\n",
    "print(nlist)"
   ]
  },
  {
   "cell_type": "code",
   "execution_count": null,
   "id": "b8526c2b",
   "metadata": {},
   "outputs": [],
   "source": []
  }
 ],
 "metadata": {
  "kernelspec": {
   "display_name": "Python 3 (ipykernel)",
   "language": "python",
   "name": "python3"
  },
  "language_info": {
   "codemirror_mode": {
    "name": "ipython",
    "version": 3
   },
   "file_extension": ".py",
   "mimetype": "text/x-python",
   "name": "python",
   "nbconvert_exporter": "python",
   "pygments_lexer": "ipython3",
   "version": "3.11.5"
  }
 },
 "nbformat": 4,
 "nbformat_minor": 5
}
